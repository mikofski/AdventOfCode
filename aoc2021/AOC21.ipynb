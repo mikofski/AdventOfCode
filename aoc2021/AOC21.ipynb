{
  "nbformat": 4,
  "nbformat_minor": 0,
  "metadata": {
    "colab": {
      "name": "AOC21.ipynb",
      "provenance": [],
      "collapsed_sections": [
        "nGzt919u85Xf",
        "7-g4AoPEjjG_",
        "BYiHoIEXssIe",
        "Hjum6mftvrwk",
        "MoJXC1FLvsJl",
        "HkiJT4f76Qtr",
        "c0RpQ513aUWA",
        "ZbDoZ41otsKJ",
        "f74H46JZ3NSM",
        "8BgeLjnGhUm_",
        "l8wYRBwwrjcZ",
        "Nh6OKmp8yeXm"
      ]
    },
    "kernelspec": {
      "name": "python3",
      "display_name": "Python 3"
    },
    "language_info": {
      "name": "python"
    }
  },
  "cells": [
    {
      "cell_type": "code",
      "metadata": {
        "id": "CFRLRYPSne5E"
      },
      "source": [
        "import pathlib\n",
        "from matplotlib import pyplot as plt\n",
        "import numpy as np\n",
        "import pandas as pd\n",
        "\n",
        "AOC_DIR = pathlib.Path('.')"
      ],
      "execution_count": 1,
      "outputs": []
    },
    {
      "cell_type": "markdown",
      "metadata": {
        "id": "nGzt919u85Xf"
      },
      "source": [
        "# Day 1 part 1\n",
        "How many times does the depth increase?"
      ]
    },
    {
      "cell_type": "code",
      "metadata": {
        "id": "zF0lbtwW8qwf"
      },
      "source": [
        "with (AOC_DIR / 'puzzle_input1.txt').open() as f:\n",
        "  puzzle_input1 = list(f)"
      ],
      "execution_count": 2,
      "outputs": []
    },
    {
      "cell_type": "code",
      "metadata": {
        "colab": {
          "base_uri": "https://localhost:8080/"
        },
        "id": "qePxig1z9CvJ",
        "outputId": "586c7d35-3e6f-4624-e89f-77ec916e8375"
      },
      "source": [
        "len(puzzle_input1)"
      ],
      "execution_count": 3,
      "outputs": [
        {
          "output_type": "execute_result",
          "data": {
            "text/plain": [
              "2000"
            ]
          },
          "metadata": {},
          "execution_count": 3
        }
      ]
    },
    {
      "cell_type": "code",
      "metadata": {
        "id": "WPo9jN9Z9LK_"
      },
      "source": [
        "puzzle_input1_ints = [int(depth) for depth in puzzle_input1]"
      ],
      "execution_count": 4,
      "outputs": []
    },
    {
      "cell_type": "code",
      "metadata": {
        "colab": {
          "base_uri": "https://localhost:8080/"
        },
        "id": "1Vffp6u49SuH",
        "outputId": "d9d56797-c7f6-4795-9dad-7256e0452816"
      },
      "source": [
        "len(puzzle_input1_ints)"
      ],
      "execution_count": 5,
      "outputs": [
        {
          "output_type": "execute_result",
          "data": {
            "text/plain": [
              "2000"
            ]
          },
          "metadata": {},
          "execution_count": 5
        }
      ]
    },
    {
      "cell_type": "code",
      "metadata": {
        "colab": {
          "base_uri": "https://localhost:8080/"
        },
        "id": "5YssGaXp9Zcp",
        "outputId": "163ce7eb-67a9-4fcb-ef48-3513f355925c"
      },
      "source": [
        "np.sum(np.diff(puzzle_input1_ints) > 0)"
      ],
      "execution_count": 6,
      "outputs": [
        {
          "output_type": "execute_result",
          "data": {
            "text/plain": [
              "1462"
            ]
          },
          "metadata": {},
          "execution_count": 6
        }
      ]
    },
    {
      "cell_type": "code",
      "metadata": {
        "colab": {
          "base_uri": "https://localhost:8080/"
        },
        "id": "jDlj1Hw39jpZ",
        "outputId": "d81a0819-64bd-4814-a0e6-1527c0915e98"
      },
      "source": [
        "np.diff(puzzle_input1_ints)[:10]"
      ],
      "execution_count": 7,
      "outputs": [
        {
          "output_type": "execute_result",
          "data": {
            "text/plain": [
              "array([  7, -13,   6,  13,  13,   3,   7,   3,  18,  18])"
            ]
          },
          "metadata": {},
          "execution_count": 7
        }
      ]
    },
    {
      "cell_type": "code",
      "metadata": {
        "colab": {
          "base_uri": "https://localhost:8080/"
        },
        "id": "Pk3YfOAg9ro9",
        "outputId": "b89359f8-1aa6-4d07-cbc7-8485a09a131a"
      },
      "source": [
        "puzzle_input1_ints[:10]"
      ],
      "execution_count": 8,
      "outputs": [
        {
          "output_type": "execute_result",
          "data": {
            "text/plain": [
              "[122, 129, 116, 122, 135, 148, 151, 158, 161, 179]"
            ]
          },
          "metadata": {},
          "execution_count": 8
        }
      ]
    },
    {
      "cell_type": "code",
      "metadata": {
        "colab": {
          "base_uri": "https://localhost:8080/"
        },
        "id": "pP7Mf7MjiQDO",
        "outputId": "9cdd69bd-b24c-4a8d-b370-e963867169df"
      },
      "source": [
        "np.diff(puzzle_input1_ints)[-10:]"
      ],
      "execution_count": 9,
      "outputs": [
        {
          "output_type": "execute_result",
          "data": {
            "text/plain": [
              "array([ -4,  26,  -4,   3, -24,   5,  -6,  28,  10,  31])"
            ]
          },
          "metadata": {},
          "execution_count": 9
        }
      ]
    },
    {
      "cell_type": "code",
      "metadata": {
        "colab": {
          "base_uri": "https://localhost:8080/"
        },
        "id": "PsxaJab-9uIA",
        "outputId": "781938b6-500e-4fb4-824c-99466c4d8b7f"
      },
      "source": [
        "puzzle_input1_ints[-10:]"
      ],
      "execution_count": 10,
      "outputs": [
        {
          "output_type": "execute_result",
          "data": {
            "text/plain": [
              "[6563, 6589, 6585, 6588, 6564, 6569, 6563, 6591, 6601, 6632]"
            ]
          },
          "metadata": {},
          "execution_count": 10
        }
      ]
    },
    {
      "cell_type": "code",
      "metadata": {
        "id": "BtgHXzV1pyYh"
      },
      "source": [
        "# check correct answer is 1462\n",
        "assert np.sum(np.diff(puzzle_input1_ints) > 0) == 1462"
      ],
      "execution_count": 11,
      "outputs": []
    },
    {
      "cell_type": "markdown",
      "metadata": {
        "id": "7-g4AoPEjjG_"
      },
      "source": [
        "# Day 1 part 2\n",
        "\n",
        "Try this 2 ways, with Pandas `.rolling` function and with a custom Rolling window function using numpy."
      ]
    },
    {
      "cell_type": "code",
      "metadata": {
        "id": "DfDNFjEfjlw2"
      },
      "source": [
        "def moving_window(x, window):\n",
        "    m = window - 1\n",
        "    z = 0\n",
        "    for n in range(window):\n",
        "        z += np.roll(x, -n)\n",
        "    return z[:-m]"
      ],
      "execution_count": 12,
      "outputs": []
    },
    {
      "cell_type": "code",
      "metadata": {
        "id": "Ifxoah07ng1h"
      },
      "source": [
        "puzzle_input1_series = pd.Series(puzzle_input1_ints)"
      ],
      "execution_count": 13,
      "outputs": []
    },
    {
      "cell_type": "code",
      "metadata": {
        "colab": {
          "base_uri": "https://localhost:8080/"
        },
        "id": "L-1o5G48nmLW",
        "outputId": "e6973102-7e5f-4f94-bfa6-c50b87a8fa45"
      },
      "source": [
        "roll_win_depths = puzzle_input1_series.rolling(3).sum().dropna().values\n",
        "roll_win_depths[10:]"
      ],
      "execution_count": 14,
      "outputs": [
        {
          "output_type": "execute_result",
          "data": {
            "text/plain": [
              "array([  582.,   595.,   608., ..., 19723., 19755., 19824.])"
            ]
          },
          "metadata": {},
          "execution_count": 14
        }
      ]
    },
    {
      "cell_type": "code",
      "metadata": {
        "colab": {
          "base_uri": "https://localhost:8080/"
        },
        "id": "0_rKK8WpnxIY",
        "outputId": "df6906e2-9f9a-4f4d-bcdf-6a9962abaa99"
      },
      "source": [
        "move_win_depths = moving_window(puzzle_input1_ints, 3)\n",
        "move_win_depths[:10]"
      ],
      "execution_count": 15,
      "outputs": [
        {
          "output_type": "execute_result",
          "data": {
            "text/plain": [
              "array([367, 367, 373, 405, 434, 457, 470, 498, 537, 574])"
            ]
          },
          "metadata": {},
          "execution_count": 15
        }
      ]
    },
    {
      "cell_type": "code",
      "metadata": {
        "colab": {
          "base_uri": "https://localhost:8080/"
        },
        "id": "ZBQ1ho36otvg",
        "outputId": "e8902cae-5cd0-46bb-d9d8-a1e13b620a08"
      },
      "source": [
        "len(roll_win_depths)"
      ],
      "execution_count": 16,
      "outputs": [
        {
          "output_type": "execute_result",
          "data": {
            "text/plain": [
              "1998"
            ]
          },
          "metadata": {},
          "execution_count": 16
        }
      ]
    },
    {
      "cell_type": "code",
      "metadata": {
        "colab": {
          "base_uri": "https://localhost:8080/"
        },
        "id": "YS2AC01HpMM8",
        "outputId": "a3ec7987-e942-4f5b-bb63-d4f8fde48bb9"
      },
      "source": [
        "len(move_win_depths)"
      ],
      "execution_count": 17,
      "outputs": [
        {
          "output_type": "execute_result",
          "data": {
            "text/plain": [
              "1998"
            ]
          },
          "metadata": {},
          "execution_count": 17
        }
      ]
    },
    {
      "cell_type": "code",
      "metadata": {
        "colab": {
          "base_uri": "https://localhost:8080/"
        },
        "id": "5vhJPYRspNyr",
        "outputId": "b935512d-066c-4a08-eff0-5ce5b58c8c26"
      },
      "source": [
        "move_win_depths[-10:]"
      ],
      "execution_count": 18,
      "outputs": [
        {
          "output_type": "execute_result",
          "data": {
            "text/plain": [
              "array([19693, 19719, 19737, 19762, 19737, 19721, 19696, 19723, 19755,\n",
              "       19824])"
            ]
          },
          "metadata": {},
          "execution_count": 18
        }
      ]
    },
    {
      "cell_type": "code",
      "metadata": {
        "colab": {
          "base_uri": "https://localhost:8080/"
        },
        "id": "8VR1KieqpUeJ",
        "outputId": "8dff165f-3d75-4e1d-8eae-d3e4a3357552"
      },
      "source": [
        "roll_win_depths[-10:]"
      ],
      "execution_count": 19,
      "outputs": [
        {
          "output_type": "execute_result",
          "data": {
            "text/plain": [
              "array([19693., 19719., 19737., 19762., 19737., 19721., 19696., 19723.,\n",
              "       19755., 19824.])"
            ]
          },
          "metadata": {},
          "execution_count": 19
        }
      ]
    },
    {
      "cell_type": "code",
      "metadata": {
        "colab": {
          "base_uri": "https://localhost:8080/"
        },
        "id": "YiU73cgRpXPG",
        "outputId": "44147136-771c-42fb-cc0f-a93249eb7ed8"
      },
      "source": [
        "np.sum(np.diff(roll_win_depths) > 0)"
      ],
      "execution_count": 20,
      "outputs": [
        {
          "output_type": "execute_result",
          "data": {
            "text/plain": [
              "1497"
            ]
          },
          "metadata": {},
          "execution_count": 20
        }
      ]
    },
    {
      "cell_type": "code",
      "metadata": {
        "colab": {
          "base_uri": "https://localhost:8080/"
        },
        "id": "fZBo0GvUrK2v",
        "outputId": "facc0aeb-2e08-4c38-92c7-e93cdfdb99cd"
      },
      "source": [
        "np.sum(np.diff(move_win_depths) > 0)"
      ],
      "execution_count": 21,
      "outputs": [
        {
          "output_type": "execute_result",
          "data": {
            "text/plain": [
              "1497"
            ]
          },
          "metadata": {},
          "execution_count": 21
        }
      ]
    },
    {
      "cell_type": "code",
      "metadata": {
        "id": "eyojWafPqIN8"
      },
      "source": [
        "# check correct answer is 1497\n",
        "assert np.sum(np.diff(move_win_depths) > 0) == 1497"
      ],
      "execution_count": 22,
      "outputs": []
    },
    {
      "cell_type": "markdown",
      "metadata": {
        "id": "BYiHoIEXssIe"
      },
      "source": [
        "# Day 2 Part 1"
      ]
    },
    {
      "cell_type": "code",
      "metadata": {
        "id": "Li4koTr0rOOW"
      },
      "source": [
        "with (AOC_DIR / 'puzzle_input2.txt').open() as f:\n",
        "  puzzle_input2 = list(f)"
      ],
      "execution_count": 23,
      "outputs": []
    },
    {
      "cell_type": "code",
      "metadata": {
        "colab": {
          "base_uri": "https://localhost:8080/"
        },
        "id": "6lRvWjIusEM3",
        "outputId": "b986ff68-85e8-4263-ef97-bb1840f8303b"
      },
      "source": [
        "horizontal, depth = 0, 0\n",
        "for command, x in (commandx.split() for commandx in puzzle_input2):\n",
        "  x = int(x)\n",
        "  if command == 'forward': horizontal += x\n",
        "  elif command == 'down': depth += x\n",
        "  elif command == 'up': depth -= x\n",
        "  else: pass\n",
        "horizontal, depth, horizontal*depth"
      ],
      "execution_count": 24,
      "outputs": [
        {
          "output_type": "execute_result",
          "data": {
            "text/plain": [
              "(1832, 1172, 2147104)"
            ]
          },
          "metadata": {},
          "execution_count": 24
        }
      ]
    },
    {
      "cell_type": "code",
      "metadata": {
        "id": "jmfXDaL7ATSF"
      },
      "source": [
        "# check correct answer is 2147104\n",
        "assert horizontal*depth == 2147104"
      ],
      "execution_count": 25,
      "outputs": []
    },
    {
      "cell_type": "markdown",
      "metadata": {
        "id": "Hjum6mftvrwk"
      },
      "source": [
        "# Day 2 part 2"
      ]
    },
    {
      "cell_type": "code",
      "metadata": {
        "colab": {
          "base_uri": "https://localhost:8080/"
        },
        "id": "p6N3djSBtSxf",
        "outputId": "c455e4c5-679e-46b9-f583-6f636e89f67b"
      },
      "source": [
        "horizontal, depth, aim = 0, 0, 0\n",
        "for command, x in (commandx.split() for commandx in puzzle_input2):\n",
        "  x = int(x)\n",
        "  if command == 'forward':\n",
        "    horizontal += x\n",
        "    depth += (x*aim)\n",
        "  elif command == 'down': aim += x\n",
        "  elif command == 'up': aim -= x\n",
        "  else: pass\n",
        "horizontal, depth, aim, horizontal*depth"
      ],
      "execution_count": 26,
      "outputs": [
        {
          "output_type": "execute_result",
          "data": {
            "text/plain": [
              "(1832, 1116059, 1172, 2044620088)"
            ]
          },
          "metadata": {},
          "execution_count": 26
        }
      ]
    },
    {
      "cell_type": "code",
      "metadata": {
        "id": "qgG_x18vAGnX"
      },
      "source": [
        "# check correct answer is 2044620088\n",
        "assert horizontal*depth == 2044620088"
      ],
      "execution_count": 27,
      "outputs": []
    },
    {
      "cell_type": "markdown",
      "metadata": {
        "id": "MoJXC1FLvsJl"
      },
      "source": [
        "# Day 3 part 1"
      ]
    },
    {
      "cell_type": "code",
      "metadata": {
        "id": "tflGlhGDtmLH"
      },
      "source": [
        "with (AOC_DIR / 'puzzle_input3.txt').open() as f:\n",
        "  puzzle_input3 = list(f)"
      ],
      "execution_count": 28,
      "outputs": []
    },
    {
      "cell_type": "code",
      "metadata": {
        "colab": {
          "base_uri": "https://localhost:8080/"
        },
        "id": "NHTZTNF01lcf",
        "outputId": "d106ed27-1d19-4805-cc7e-80a244a98958"
      },
      "source": [
        "gamma_rate, epsilon_rate = '', ''\n",
        "for position in zip(*puzzle_input3):\n",
        "  print(\"\".join(position))\n",
        "  bits = sum(int(b) for b in position)\n",
        "  print(f'length = {len(position)}, common bits = {bits}')\n",
        "  if 2*bits > len(position):\n",
        "    gamma_rate += '1'\n",
        "    epsilon_rate += '0'\n",
        "  else:\n",
        "    gamma_rate += '0'\n",
        "    epsilon_rate += '1'"
      ],
      "execution_count": 29,
      "outputs": [
        {
          "output_type": "stream",
          "name": "stdout",
          "text": [
            "0100011001111100011000101100000101011010010101000011110001110100101010001111110111101100100110010110111000001111011001000001000100001001100110101001110010001001111111001010010010100000111001101110100110100011100000100011101000111011000010100001010010000101010010111110101001001100001100011010110011011001111001110111010001000111011011100100110110100110111101010001011100101101010001110000011100110000100010011100001000100101110101010110001000010100010111100010011100001011101110110000010111111010000010101011001010010010010001100000111011100010110000011100101010001101111011010110110001000111101111111011011101000101111000111111000010101001001001001000001111101001011001111111010111000010111001010110110111011011000011111010111010110010011001100010100011000111011011100100100001100101111011010100011010001110010011000000000010001111111011000101100011101111001101010111010011010101000110100000010110110111101000010111101100100001101011000000111011001011100101111100100011101100010011001101011100011110\n",
            "length = 1000, common bits = 494\n",
            "0110100110100100001100000110000001100011011110010110100111011111100001110101101010100101110100101000001111000000111100001111111010010111010110100010110110000100101100000100110011110000111011000000111000010011101100101101000110010111011010001001110111000100110011111000001100001100111101011000001001010101101110010101010011010000011111110111001101011110101011000001111111101001010000000001101110101110101110111110101111110001111100010111010100110101100000100110111000000100010011100011100100011111111100101100101010100010100100110100010100011110111011111000011100101000101100011111100100101010110000010010100110111001001110000011100100011010011101101111100010111100000101001000100011010101100101111000100110001000011001001010010000111010111100111101100100000001111000110100000001000100001100010000001000011011101011001000011111110000101000001110011101110001001001000100111100101110100011001000010010011010110011011100011100000110010011011011111111011011001101110111010001011100110100011100000111100110\n",
            "length = 1000, common bits = 490\n",
            "0011111100100011111100111001001010001011100011110011010101011010110010001010101011000001011111010011001010111111000110000011001111111101001011111100000110010010010111001100000001110100110000111000000000001001110000101100101111010110000110110011111101001011001011100110110001111111001111101011010001100100100101001101001110011100100000110111011100110000001111000111001010000001011001010010001011110010111110010011001100001100010110110011010000100101100100111010001011011100011011000001001101001010110011101000000110111111000001001110100100011011001100111101110011101011100100111010100000101011110101100011001110111011100010111100011101010111111011000000101100100110111010100001110010010010100000111010101111000000110000111000011111011110111011101000000001111011011111100011111011000011010101110011001000000011010100001011111010010010110000011101001110000101100100101010101111101110010100000000001001110001111111101010010011000100001110110110011101011101101010001011001011100100110110010010101101111111\n",
            "length = 1000, common bits = 506\n",
            "1001111010000110010011110010001000011100101100001101001010110100001110001011011100101010000000110001101110111110110100011001110001000010100110110101001000101101100001000110110000010000111100110010101011011101011110001000001110111000110111011001101100110110110100101110010101000011001100011100011100011010101010110111001101101101100000011100110100111110100110000010000011110101001010011110111110111010101001000100001111011111100100001100110010011111101110010110111110000110001000100000100010001000010010011111100001110111110101001010000101000101001100000011101001111010001100000101000010001111110011101011011001100000010010101001111000111000101101111000101101101110001101110111001100110110001101111000010001010111011010111101001001001110010001001001110101100101011100110010011111010111011011110110000100110010001100011000110010010000010101111100100010001001011000011101110111100110011100101100110110000101001111110101000111001100111111001100101011111001011000000111111111101110011111101011011111110011\n",
            "length = 1000, common bits = 508\n",
            "0100001100100110000100010111110010000111100010111101100101100011111101011001011100100100111100000111100000110010010110001010110001010100011010101100011010110000000111101011101101011010001011110110110010011101010011110010100110000110011001011100101001101000100011111100111111011110110100011000011011000100000110010110011001110000011011001010001110101001010110010001101001110001010000110011100011110110010100000010010010010000000000111110011011111100000000100110011000111110101111000011010000111111010100001011101001011000111111010110000111110100010111000011000110100001110010111000011101001111000110001101001011101111000010101001101110001001001111010100110000100101010101111101000101000111010101111000000111100001101100010101110111110011001001011110110000001110011100001100000101100101001101001011011011111000110101101000100111100010110101011101001101000101011101111110111001101011000010100010000000110000111111111111001111111001000110101011000100111111000011011100101100100011110111101000001011101000\n",
            "length = 1000, common bits = 499\n",
            "0101011011110100010011101011001010111011111100111100100010010100110000101100001111001000110000010001011001101111001011010011101001001010010111111100111110001100100000000100101011101110000110011111001111000000010110001101100000010010111110001000101011110010010000101001110001001011000001001001101000101001111110100110001100000011010100000010001100100110110100001011110110000100110001110010101000011110001010011001010011011010101100010101001011001011100010101001110101110010111100011101001110001010100001001101101000111110101000000101010000110000110010001110010011101000111101100011010111111101010011000100111001110110111001011110101011111010011101111011011100000101111101001001101101001011111011010001010010001100110001100111110100010101110000011100111000001001111001000010000001111001110101101011011101111111011101101110010110101010010110010101111110110000011100010011011001010000011111101111111101101001010011001001010010000011000100010000100011000101100001101100101001011111000111010001111101101110\n",
            "length = 1000, common bits = 498\n",
            "0111000001100100011110101110001000001011101111110010100100010010010110001100011001011101000010110010011000010000010010010101101000100101101110100011000001111010110110010000101010110000010000110100000011011100000101110000111011101111000110010010111111011110010101001100110001100101000110001000000111111110101011000110011110111101001100100100011010000000110101111011110000110001010011101000001010010111101000110011110110111001101010101110010100110000011001010011100111011101001100011100100011111100111010000100001010110101110111010111110011100110101001111011001000110000100010111001101111110000110011110001011010010000011001000010111011011100101101100001111001110101101001100010100001010001000111001010101011111011001101111100100111100111010000010100110101000001001110110110000100100100001001110101010101101000110101001100011001111011010000001111111011011010110000001010000001111001101110001111000000111100001000010011110110111111101110111000000110010101001001001111001011110111010110111110100000101101\n",
            "length = 1000, common bits = 494\n",
            "1100011001100110001100010001110011011011110011101100111010001110010110100001010011110100111111010110101110000000000111111100001000111100001001011001111001000100110011000010111010101110000010110100101101101100010001100011110010010010101111001110100011101011001101100111101100011111111111000010100010010111111111110000000010000110100000100010010001011100110011110000010011101011110100001101101110100100110100000011010101000011001010001110001000001110110000001001101000011000111100101010000010101101011100111111001111110000111011101111001111111110111100011101100011110101011110110001000101110010101110010001110111011111000010101101100011110001011101100111111001110100000101000111111010001010001101111011000000110101110010001000010101100110100011011010011101101010000000011111100000011010111011111011101011000001100010010011110010111011110000100101001011110111001101111010110111001111111010101001011011010100011101010011111011100100110000011110100011011001110000110000100001001001001010001100010010100011\n",
            "length = 1000, common bits = 511\n",
            "1010110001111001011100100000100100111101101110010000110011110110000111011000010110100111001111011010111010011101100011010100101000001111111011001100101100100110011010100001111001100011101110110101101001110100110001010000111111001111101000000000101111001010100100011110111001000100101001101000101110001111001100100101010011100101111000100001010100101000110001101011101110100000101111110100101011100111110000010100100000001101111010110000000111000000001110000101101001111000000110100100000100000000101101011000010101110001110001110100001101111101110101111111011101010001010010011000010110110011000011110001111001110010011001111010010111000001001111110100010101111011010010100101000110100110011101101011000110000001011100100000010010111110111001001011011111010000001010100011010011010100001110001010101100111111110010101101110100010010101011100100010011100011001101100011000110110110100001001110011010000101100010011100111011111110111110101101010111000000110110100100100000100100001000010111111001110011\n",
            "length = 1000, common bits = 495\n",
            "0111001100110010101110000110000111100100010011000100111010101011011110101000011100110010000010000101000110010110010101001011001101010001100001010000010010011000010010100010100101010001111101101011001001100100001100011110000000010101001000100010001101101100011000010000100101010011001111100111111001111100001011100110110010000000011010011011100111011011011000010000010101111010011000100001110101111101000001000001011011111000111001011010111010010100111100010011000111010011000110111001010100000001011111001110000100001101001100101111110000000111010011111001110100010101111010100010000010001100001101000101010011000001010101100111100111100101010110110010010001001100111011011110010110000011001111011111100101001111100001000101110010110100010000010001110100010000000001111101001010001000100001111110001000101111010001110000111100010001100010000111010001100010101000011111111000111111110011011110010010000110110000010111011110001110111000100111111111100101011100011110001100100111011010000101110011111011\n",
            "length = 1000, common bits = 476\n",
            "1110010010001110110010110110100010000111111001101100000101100110001111110010011000000010101000010011011110001110100110001000010010010101000011010000010100000010001110011000111011000001001100000011011110100111010100100111101010000011110100101010010111100001111101111001001010011001100100011110011101001100101101001000101000101100111100001100110000000101100100101110010111001101111100100110100001111001101000010101100100100100101101101000011100101111100010111001000101111101111100111010000010101011101000000011000001110000100101111010000011100000000111010011100101011111100001110011001011101111110001011100101011001111011011011111110100010010001000000000000100000111000010101100111111111011111100111111101110110110001101000111100011000010100000000111001000011010110100010011010100110000011110000001001010111111101010000110100000111111000100000000100101110011010100001101111011000101001110011111111100010000010101111000011100001011100001100010110101111100111010100101011001010111010011011110011001111001\n",
            "length = 1000, common bits = 485\n",
            "0011011100001000001111101111011111111101111000110011110101010010001101000100111011000110001010011101011100011110110010111111101001100010011000000111111110101100100001011011111101100111010001111101001010000010010010101011010001100110010100011000001100001101110000000011010101100001111010101011100010001000100101111011001000100111101000110001001101010100010000111000111010011111110010010100100001110111100000011111111011101100011100011100101001001101011100100001111000001001000100100100101110110100111111010110010111010011110010000100101101010000100010111100010110010111011001000010010001100100111101000110100100111110000101010011110001011011000100010000011001100000110101111001001011100100100111000101000101111000011011000010010000101011010111001000100001110001101000111100110111011100000011001000001011111100001100010011100100001110101111011111010000010111101011111010101001000010001010110111010010000011111101011110111000001011011010110010110101100110001001100001011010011010100100101001011000100110\n",
            "length = 1000, common bits = 490\n"
          ]
        }
      ]
    },
    {
      "cell_type": "code",
      "metadata": {
        "colab": {
          "base_uri": "https://localhost:8080/",
          "height": 0
        },
        "id": "LUzIrbKR2yhL",
        "outputId": "c2c797df-fa2e-475a-edb1-45b26b4e1ed3"
      },
      "source": [
        "\"\".join(gamma_rate)"
      ],
      "execution_count": 30,
      "outputs": [
        {
          "output_type": "execute_result",
          "data": {
            "application/vnd.google.colaboratory.intrinsic+json": {
              "type": "string"
            },
            "text/plain": [
              "'001100010000'"
            ]
          },
          "metadata": {},
          "execution_count": 30
        }
      ]
    },
    {
      "cell_type": "code",
      "metadata": {
        "colab": {
          "base_uri": "https://localhost:8080/",
          "height": 0
        },
        "id": "O7drG_hC3IM_",
        "outputId": "5b4ec42a-590f-4641-968a-65fc80792a7f"
      },
      "source": [
        "\"\".join(epsilon_rate)"
      ],
      "execution_count": 31,
      "outputs": [
        {
          "output_type": "execute_result",
          "data": {
            "application/vnd.google.colaboratory.intrinsic+json": {
              "type": "string"
            },
            "text/plain": [
              "'110011101111'"
            ]
          },
          "metadata": {},
          "execution_count": 31
        }
      ]
    },
    {
      "cell_type": "code",
      "metadata": {
        "colab": {
          "base_uri": "https://localhost:8080/"
        },
        "id": "sEdo3Y9o3NIJ",
        "outputId": "616541ed-53ee-42c1-d938-5b7eece659fb"
      },
      "source": [
        "gamma_rate = int(gamma_rate, 2)\n",
        "epsilon_rate = int(epsilon_rate, 2)\n",
        "gamma_rate * epsilon_rate"
      ],
      "execution_count": 32,
      "outputs": [
        {
          "output_type": "execute_result",
          "data": {
            "text/plain": [
              "2595824"
            ]
          },
          "metadata": {},
          "execution_count": 32
        }
      ]
    },
    {
      "cell_type": "code",
      "metadata": {
        "id": "qy7qA8Wi_065"
      },
      "source": [
        "# check correct answer is 2595824\n",
        "assert gamma_rate * epsilon_rate == 2595824"
      ],
      "execution_count": 33,
      "outputs": []
    },
    {
      "cell_type": "markdown",
      "metadata": {
        "id": "HkiJT4f76Qtr"
      },
      "source": [
        "# Day 3 part 2"
      ]
    },
    {
      "cell_type": "code",
      "metadata": {
        "colab": {
          "base_uri": "https://localhost:8080/"
        },
        "id": "56-uj3-J3nF4",
        "outputId": "524630f9-f8dc-4d5b-fff9-74b0db9d5986"
      },
      "source": [
        "numbers = np.array(puzzle_input3)\n",
        "num_inputs = len(puzzle_input3)\n",
        "o2_idx = np.ones(num_inputs).astype(bool)\n",
        "co2_idx = np.ones(num_inputs).astype(bool)\n",
        "num_o2 = sum(o2_idx)\n",
        "num_co2 = sum(co2_idx)\n",
        "for position in zip(*puzzle_input3):\n",
        "  idx = np.array(position, int).astype(bool)\n",
        "\n",
        "  # search for o2 numbers\n",
        "  if num_o2 > 1:\n",
        "    o2_positions = np.array(position)[o2_idx]\n",
        "    o2_bits = sum(int(b) for b in o2_positions)\n",
        "    if 2*o2_bits >= num_o2:\n",
        "      o2_idx &= idx\n",
        "    else:\n",
        "      o2_idx &= ~idx\n",
        "\n",
        "  # search for co2 numbers\n",
        "  if num_co2 > 1:\n",
        "    co2_positions = np.array(position)[co2_idx]\n",
        "    co2_bits = sum(int(b) for b in co2_positions)  \n",
        "    if 2*co2_bits >= num_co2:\n",
        "      co2_idx &= ~idx\n",
        "    else:\n",
        "      co2_idx &= idx\n",
        "\n",
        "  num_o2 = sum(o2_idx)\n",
        "  num_co2 = sum(co2_idx)\n",
        "  print(num_o2, num_co2)\n",
        "\n",
        "o2_gen_numbers = numbers[o2_idx]\n",
        "co2_scrub_numbers = numbers[co2_idx]\n",
        "o2_gen_numbers, co2_scrub_numbers"
      ],
      "execution_count": 34,
      "outputs": [
        {
          "output_type": "stream",
          "name": "stdout",
          "text": [
            "506 494\n",
            "263 247\n",
            "133 119\n",
            "69 51\n",
            "35 24\n",
            "20 11\n",
            "12 5\n",
            "7 1\n",
            "5 1\n",
            "3 1\n",
            "2 1\n",
            "1 1\n"
          ]
        },
        {
          "output_type": "execute_result",
          "data": {
            "text/plain": [
              "(array(['001100001101\\n'], dtype='<U13'),\n",
              " array(['101010101110\\n'], dtype='<U13'))"
            ]
          },
          "metadata": {},
          "execution_count": 34
        }
      ]
    },
    {
      "cell_type": "code",
      "metadata": {
        "colab": {
          "base_uri": "https://localhost:8080/"
        },
        "id": "EmAZemwH75xW",
        "outputId": "a04b1c40-8554-4bb8-daba-750bb3ee9860"
      },
      "source": [
        "o2_gen_rate = int(o2_gen_numbers[0], 2)\n",
        "co2_scrub_rate = int(co2_scrub_numbers[0], 2)\n",
        "o2_gen_rate, co2_scrub_rate, o2_gen_rate*co2_scrub_rate"
      ],
      "execution_count": 35,
      "outputs": [
        {
          "output_type": "execute_result",
          "data": {
            "text/plain": [
              "(781, 2734, 2135254)"
            ]
          },
          "metadata": {},
          "execution_count": 35
        }
      ]
    },
    {
      "cell_type": "code",
      "metadata": {
        "id": "NKKCBP-K84Jn"
      },
      "source": [
        "# check correct answer is 2135254\n",
        "assert o2_gen_rate*co2_scrub_rate == 2135254"
      ],
      "execution_count": 36,
      "outputs": []
    },
    {
      "cell_type": "markdown",
      "metadata": {
        "id": "c0RpQ513aUWA"
      },
      "source": [
        "# Day 4 part 1"
      ]
    },
    {
      "cell_type": "code",
      "metadata": {
        "id": "nnxwUFLYaY78"
      },
      "source": [
        "puzzle_input4 = {}\n",
        "with (AOC_DIR / 'puzzle_input4.txt').open() as f:\n",
        "  # the first line are the bingo numbers\n",
        "  puzzle_input4['numbers'] = [int(_) for _ in f.readline().split(',')]\n",
        "  puzzle_input4['grids'] = []\n",
        "  # the bingo grids are separated by newlines except the EOF\n",
        "  line = f.readline()\n",
        "  while line == '\\n':\n",
        "    grid = []\n",
        "    line = f.readline()\n",
        "    while line.strip():\n",
        "      grid.append([int(_) for _ in line.split()])\n",
        "      line = f.readline()\n",
        "    puzzle_input4['grids'].append(np.array(grid))"
      ],
      "execution_count": 37,
      "outputs": []
    },
    {
      "cell_type": "code",
      "metadata": {
        "colab": {
          "base_uri": "https://localhost:8080/"
        },
        "id": "-PlCNSK-anVi",
        "outputId": "4559440a-bd89-4d20-fd8e-444efc8f34b6"
      },
      "source": [
        "bingo = False\n",
        "bingo_idx = [np.zeros_like(g) for g in puzzle_input4['grids']]\n",
        "for number in puzzle_input4['numbers']:\n",
        "  for k, grid in enumerate(puzzle_input4['grids']):\n",
        "    bingo_idx[k] |= (grid == number)\n",
        "    if (any(bingo_idx[k].sum(axis=0) == 5)\n",
        "        or any(bingo_idx[k].sum(axis=1) == 5)):\n",
        "      bingo = True\n",
        "      break\n",
        "  if bingo: break\n",
        "print(f'bingo winner: grid = {k+1}, number = {number}')"
      ],
      "execution_count": 38,
      "outputs": [
        {
          "output_type": "stream",
          "name": "stdout",
          "text": [
            "bingo winner: grid = 74, number = 42\n"
          ]
        }
      ]
    },
    {
      "cell_type": "code",
      "metadata": {
        "colab": {
          "base_uri": "https://localhost:8080/"
        },
        "id": "7lbOWahndVOF",
        "outputId": "1ebcc96f-12d4-4890-896a-2d0cf34917d7"
      },
      "source": [
        "grid_sum = puzzle_input4['grids'][k][~bingo_idx[k].astype(bool)].sum()\n",
        "grid_sum*number"
      ],
      "execution_count": 39,
      "outputs": [
        {
          "output_type": "execute_result",
          "data": {
            "text/plain": [
              "32844"
            ]
          },
          "metadata": {},
          "execution_count": 39
        }
      ]
    },
    {
      "cell_type": "code",
      "metadata": {
        "colab": {
          "base_uri": "https://localhost:8080/"
        },
        "id": "D8oxbBTtkQWG",
        "outputId": "f8031fc3-4e84-4c66-d020-d67e27d3b501"
      },
      "source": [
        "puzzle_input4['grids'][k]"
      ],
      "execution_count": 40,
      "outputs": [
        {
          "output_type": "execute_result",
          "data": {
            "text/plain": [
              "array([[26, 89, 27, 47, 91],\n",
              "       [15,  9, 18, 62, 28],\n",
              "       [31, 96, 42, 81, 86],\n",
              "       [11, 52, 20, 93, 38],\n",
              "       [83, 64, 39,  1, 60]])"
            ]
          },
          "metadata": {},
          "execution_count": 40
        }
      ]
    },
    {
      "cell_type": "code",
      "metadata": {
        "colab": {
          "base_uri": "https://localhost:8080/"
        },
        "id": "kDEZ28Ymkl8j",
        "outputId": "d14d5b34-bd25-4acb-cb75-430108205562"
      },
      "source": [
        "bingo_idx[k]"
      ],
      "execution_count": 41,
      "outputs": [
        {
          "output_type": "execute_result",
          "data": {
            "text/plain": [
              "array([[0, 0, 0, 0, 1],\n",
              "       [0, 0, 0, 0, 0],\n",
              "       [1, 1, 1, 1, 1],\n",
              "       [0, 0, 0, 0, 0],\n",
              "       [0, 0, 0, 0, 0]])"
            ]
          },
          "metadata": {},
          "execution_count": 41
        }
      ]
    },
    {
      "cell_type": "code",
      "metadata": {
        "id": "AIdE5slYkXkc"
      },
      "source": [
        "# check correct answer is 32844\n",
        "assert grid_sum*number == 32844"
      ],
      "execution_count": 42,
      "outputs": []
    },
    {
      "cell_type": "markdown",
      "metadata": {
        "id": "ZbDoZ41otsKJ"
      },
      "source": [
        "# Day 4 part 2"
      ]
    },
    {
      "cell_type": "code",
      "metadata": {
        "colab": {
          "base_uri": "https://localhost:8080/"
        },
        "id": "LyHLgEbmtuND",
        "outputId": "8c5ca37b-977b-4aae-94e6-fa56f9b9c61b"
      },
      "source": [
        "bingo = np.zeros(len(puzzle_input4['grids'])).astype(bool)\n",
        "bingo_idx = [np.zeros_like(g) for g in puzzle_input4['grids']]\n",
        "for number in puzzle_input4['numbers']:\n",
        "  for k, grid in enumerate(puzzle_input4['grids']):\n",
        "    bingo_idx[k] |= (grid == number)\n",
        "    if (any(bingo_idx[k].sum(axis=0) == 5)\n",
        "        or any(bingo_idx[k].sum(axis=1) == 5)):\n",
        "      bingo[k] = True\n",
        "      if bingo.all(): break\n",
        "  if bingo.all(): break\n",
        "print(f'last bingo winner: grid = {k+1}, number = {number}')"
      ],
      "execution_count": 43,
      "outputs": [
        {
          "output_type": "stream",
          "name": "stdout",
          "text": [
            "last bingo winner: grid = 66, number = 20\n"
          ]
        }
      ]
    },
    {
      "cell_type": "code",
      "metadata": {
        "colab": {
          "base_uri": "https://localhost:8080/"
        },
        "id": "Kgrk5rqJuVbn",
        "outputId": "b862967e-3508-46b5-cc7d-f313d39f791f"
      },
      "source": [
        "puzzle_input4['grids'][k]"
      ],
      "execution_count": 44,
      "outputs": [
        {
          "output_type": "execute_result",
          "data": {
            "text/plain": [
              "array([[85, 64, 44, 39, 57],\n",
              "       [90, 30, 15, 35, 54],\n",
              "       [78, 89, 55, 99, 12],\n",
              "       [80, 96, 20, 50, 45],\n",
              "       [56, 10, 71, 59, 17]])"
            ]
          },
          "metadata": {},
          "execution_count": 44
        }
      ]
    },
    {
      "cell_type": "code",
      "metadata": {
        "colab": {
          "base_uri": "https://localhost:8080/"
        },
        "id": "UFk1dnvqubJF",
        "outputId": "0349343d-9018-418a-edf2-1986e92b47f0"
      },
      "source": [
        "bingo_idx[k]"
      ],
      "execution_count": 45,
      "outputs": [
        {
          "output_type": "execute_result",
          "data": {
            "text/plain": [
              "array([[1, 1, 0, 1, 1],\n",
              "       [1, 0, 1, 1, 1],\n",
              "       [1, 1, 1, 0, 1],\n",
              "       [1, 1, 1, 1, 1],\n",
              "       [0, 1, 1, 1, 0]])"
            ]
          },
          "metadata": {},
          "execution_count": 45
        }
      ]
    },
    {
      "cell_type": "code",
      "metadata": {
        "colab": {
          "base_uri": "https://localhost:8080/"
        },
        "id": "_C0lz_LEudxG",
        "outputId": "d4d0c9f0-e80d-4158-a5ff-36f590bb1543"
      },
      "source": [
        "grid_sum = puzzle_input4['grids'][k][~bingo_idx[k].astype(bool)].sum()\n",
        "grid_sum*number"
      ],
      "execution_count": 46,
      "outputs": [
        {
          "output_type": "execute_result",
          "data": {
            "text/plain": [
              "4920"
            ]
          },
          "metadata": {},
          "execution_count": 46
        }
      ]
    },
    {
      "cell_type": "code",
      "metadata": {
        "id": "Id6uIJD9uv-0"
      },
      "source": [
        "# check answer is 4920\n",
        "assert grid_sum*number == 4920"
      ],
      "execution_count": 47,
      "outputs": []
    },
    {
      "cell_type": "markdown",
      "metadata": {
        "id": "f74H46JZ3NSM"
      },
      "source": [
        "# day 5 part 1\n",
        "Hydrothermal venture"
      ]
    },
    {
      "cell_type": "code",
      "metadata": {
        "id": "bxm0qWNE3Quj"
      },
      "source": [
        "# read in pairs of points in format x1,y1 -> x2,y2\n",
        "puzzle_input5 = []\n",
        "with (AOC_DIR / 'puzzle_input5.txt').open() as f:\n",
        "  puzzle_input5 = np.array(\n",
        "      [[xy.split(',') for xy in pt.split('->')] for pt in f],\n",
        "      dtype=int)"
      ],
      "execution_count": 48,
      "outputs": []
    },
    {
      "cell_type": "code",
      "metadata": {
        "id": "vjLHaridB4P6"
      },
      "source": [
        "# some useful numbers to understand the dimensions of the input\n",
        "x1y1 = puzzle_input5[:, 0, :]  # all the first point coords\n",
        "x2y2 = puzzle_input5[:, 1, :]  # all the second point coords\n",
        "xpts = puzzle_input5[:, :, 0]  # all the x's\n",
        "ypts = puzzle_input5[:, :, 1]  # all the y's"
      ],
      "execution_count": 49,
      "outputs": []
    },
    {
      "cell_type": "code",
      "metadata": {
        "colab": {
          "base_uri": "https://localhost:8080/"
        },
        "id": "whMQiCNJB8qw",
        "outputId": "048d8d1d-576b-400c-a3b1-ab4c7986c6ea"
      },
      "source": [
        "# find the size of the diagram\n",
        "xmax = xpts.max()\n",
        "ymax = ypts.max()\n",
        "xmax, ymax"
      ],
      "execution_count": 50,
      "outputs": [
        {
          "output_type": "execute_result",
          "data": {
            "text/plain": [
              "(989, 990)"
            ]
          },
          "metadata": {},
          "execution_count": 50
        }
      ]
    },
    {
      "cell_type": "code",
      "metadata": {
        "colab": {
          "base_uri": "https://localhost:8080/"
        },
        "id": "dPTpBf1OVFUt",
        "outputId": "64d88f4a-8552-4636-8fbd-f1936fefb5d6"
      },
      "source": [
        "# off by one! if a max dimension is 990 and min is zero, then it's 991 long!\n",
        "diagram = np.zeros((xmax+1, ymax+1))\n",
        "diagram.shape"
      ],
      "execution_count": 51,
      "outputs": [
        {
          "output_type": "execute_result",
          "data": {
            "text/plain": [
              "(990, 991)"
            ]
          },
          "metadata": {},
          "execution_count": 51
        }
      ]
    },
    {
      "cell_type": "code",
      "metadata": {
        "colab": {
          "base_uri": "https://localhost:8080/"
        },
        "id": "uhgCCaZSCCs1",
        "outputId": "73702073-f224-40f6-d995-13db74af3720"
      },
      "source": [
        "# DEMO: find where x1=x2 or y1=y2\n",
        "x1y1[:9] == x2y2[:9]"
      ],
      "execution_count": 52,
      "outputs": [
        {
          "output_type": "execute_result",
          "data": {
            "text/plain": [
              "array([[False, False],\n",
              "       [False, False],\n",
              "       [False, False],\n",
              "       [False, False],\n",
              "       [ True, False],\n",
              "       [ True, False],\n",
              "       [ True, False],\n",
              "       [False, False],\n",
              "       [False,  True]])"
            ]
          },
          "metadata": {},
          "execution_count": 52
        }
      ]
    },
    {
      "cell_type": "code",
      "metadata": {
        "colab": {
          "base_uri": "https://localhost:8080/"
        },
        "id": "7CgNCQD2GBiV",
        "outputId": "71d8f879-6ef2-446d-c882-6413a7a74eda"
      },
      "source": [
        "# DEMO: show that xpts or ypts are matching?\n",
        "puzzle_input5[:9].T"
      ],
      "execution_count": 53,
      "outputs": [
        {
          "output_type": "execute_result",
          "data": {
            "text/plain": [
              "array([[[556, 337, 786, 977, 544, 539, 364, 282, 536],\n",
              "        [341, 782, 117, 199, 544, 539, 364, 892, 158]],\n",
              "\n",
              "       [[286, 201, 780, 864, 127, 471, 765, 325, 941],\n",
              "        [ 71, 646, 111,  86, 144, 972, 285, 935, 941]]])"
            ]
          },
          "metadata": {},
          "execution_count": 53
        }
      ]
    },
    {
      "cell_type": "code",
      "metadata": {
        "id": "Oty1zv23GDxF"
      },
      "source": [
        "# get indices of lines with either matching xpts or ypts\n",
        "pts_idx = np.any(x1y1 == x2y2, axis=1)"
      ],
      "execution_count": 54,
      "outputs": []
    },
    {
      "cell_type": "code",
      "metadata": {
        "colab": {
          "base_uri": "https://localhost:8080/"
        },
        "id": "W-SLXJDRHnEf",
        "outputId": "73a4f67b-76e0-4060-9c06-d8c957b6ffb0"
      },
      "source": [
        "# DEMO: show that we have only vertical or horizontal lines\n",
        "puzzle_input5[pts_idx, :, :][:4]"
      ],
      "execution_count": 55,
      "outputs": [
        {
          "output_type": "execute_result",
          "data": {
            "text/plain": [
              "array([[[544, 127],\n",
              "        [544, 144]],\n",
              "\n",
              "       [[539, 471],\n",
              "        [539, 972]],\n",
              "\n",
              "       [[364, 765],\n",
              "        [364, 285]],\n",
              "\n",
              "       [[536, 941],\n",
              "        [158, 941]]])"
            ]
          },
          "metadata": {},
          "execution_count": 55
        }
      ]
    },
    {
      "cell_type": "code",
      "metadata": {
        "id": "UsX6RdBeOP09"
      },
      "source": [
        "for line in puzzle_input5[pts_idx, :, :]:\n",
        "  # vertical lines\n",
        "  if line[0, 0] == line[1, 0]:\n",
        "    xpt = line[0, 0]\n",
        "    for ypt in range(line[:, 1].min(), 1+line[:, 1].max()):\n",
        "      diagram[xpt, ypt] += 1\n",
        "  # horizontal lines\n",
        "  if line[0, 1] == line[1, 1]:\n",
        "    ypt = line[1, 1]\n",
        "    for xpt in range(line[:, 0].min(), 1+line[:, 0].max()):\n",
        "      diagram[xpt, ypt] += 1"
      ],
      "execution_count": 56,
      "outputs": []
    },
    {
      "cell_type": "code",
      "metadata": {
        "colab": {
          "base_uri": "https://localhost:8080/"
        },
        "id": "PV7fI16rYCpK",
        "outputId": "35b73508-6107-4209-f161-783c3e03097f"
      },
      "source": [
        "diagram.max()"
      ],
      "execution_count": 57,
      "outputs": [
        {
          "output_type": "execute_result",
          "data": {
            "text/plain": [
              "4.0"
            ]
          },
          "metadata": {},
          "execution_count": 57
        }
      ]
    },
    {
      "cell_type": "code",
      "metadata": {
        "colab": {
          "base_uri": "https://localhost:8080/",
          "height": 0
        },
        "id": "KgPx2Gc6R7OK",
        "outputId": "04c457be-d2c9-4fbc-8001-b0b70d8990a1"
      },
      "source": [
        "plt.figure(figsize=(16, 12))\n",
        "plt.contourf(diagram, cmap='magma')\n",
        "plt.colorbar()"
      ],
      "execution_count": 58,
      "outputs": [
        {
          "output_type": "execute_result",
          "data": {
            "text/plain": [
              "<matplotlib.colorbar.Colorbar at 0x7faffcfce7d0>"
            ]
          },
          "metadata": {},
          "execution_count": 58
        },
        {
          "output_type": "display_data",
          "data": {
            "image/png": "[encoded data removed]",
            "text/plain": [
              "<Figure size 1152x864 with 2 Axes>"
            ]
          },
          "metadata": {
            "needs_background": "light"
          }
        }
      ]
    },
    {
      "cell_type": "code",
      "metadata": {
        "colab": {
          "base_uri": "https://localhost:8080/"
        },
        "id": "iIihzdchR5Fg",
        "outputId": "ace256de-3b77-4229-94f2-4133c611449f"
      },
      "source": [
        "[np.sum(diagram == _) for _ in range(5)]"
      ],
      "execution_count": 59,
      "outputs": [
        {
          "output_type": "execute_result",
          "data": {
            "text/plain": [
              "[884773, 91172, 4822, 308, 15]"
            ]
          },
          "metadata": {},
          "execution_count": 59
        }
      ]
    },
    {
      "cell_type": "code",
      "metadata": {
        "colab": {
          "base_uri": "https://localhost:8080/"
        },
        "id": "jtv3FuecUgER",
        "outputId": "98cabb2a-b47a-4242-8a97-96dc573c82bd"
      },
      "source": [
        "np.sum(diagram >= 2)"
      ],
      "execution_count": 60,
      "outputs": [
        {
          "output_type": "execute_result",
          "data": {
            "text/plain": [
              "5145"
            ]
          },
          "metadata": {},
          "execution_count": 60
        }
      ]
    },
    {
      "cell_type": "code",
      "metadata": {
        "id": "iZjFu_a2dH-Z"
      },
      "source": [
        "# check answer is 5145\n",
        "assert np.sum(diagram >= 2) == 5145"
      ],
      "execution_count": 61,
      "outputs": []
    },
    {
      "cell_type": "markdown",
      "metadata": {
        "id": "8BgeLjnGhUm_"
      },
      "source": [
        "# Day 5 part 2\n",
        "including diagonal lines at 45-degrees"
      ]
    },
    {
      "cell_type": "code",
      "metadata": {
        "id": "hpauj19BhZUJ"
      },
      "source": [
        "# get indices of diagonal sets of pts\n",
        "# which are pairs with (y1 - x1) == (y2 - x2)\n",
        "# EG: (3 - 3) = (2 - 2) = (1 - 1) = 0\n",
        "diag_pts_idx = np.diff(x1y1) == np.diff(x2y2)\n",
        "\n",
        "# the example shows a pair with (x1 == y1) and (x2 == y2) like this:\n",
        "#   diag_pts_idx = np.all(xpts == ypts, axis=1)\n",
        "# but there's only one pair (10, 10) -> (989, 989) like that"
      ],
      "execution_count": 62,
      "outputs": []
    },
    {
      "cell_type": "code",
      "metadata": {
        "colab": {
          "base_uri": "https://localhost:8080/"
        },
        "id": "d6XVaCWsijwg",
        "outputId": "a12eb024-de5d-46da-bab2-aaa3e2852b49"
      },
      "source": [
        "diag_lines = puzzle_input5[diag_pts_idx.squeeze(), :, :]\n",
        "# there are many pairs, but they are not all  (r, r) -> (s, s) pairs!\n",
        "diag_lines[-15:-10]"
      ],
      "execution_count": 63,
      "outputs": [
        {
          "output_type": "execute_result",
          "data": {
            "text/plain": [
              "array([[[986, 827],\n",
              "        [213,  54]],\n",
              "\n",
              "       [[816, 483],\n",
              "        [620, 287]],\n",
              "\n",
              "       [[397, 210],\n",
              "        [988, 801]],\n",
              "\n",
              "       [[ 22,  11],\n",
              "        [982, 971]],\n",
              "\n",
              "       [[ 10,  10],\n",
              "        [989, 989]]])"
            ]
          },
          "metadata": {},
          "execution_count": 63
        }
      ]
    },
    {
      "cell_type": "code",
      "metadata": {
        "id": "1e7ZNKi8kMfO"
      },
      "source": [
        "for diag_line in diag_lines:\n",
        "  diag_diff = np.diff(diag_line[0]).squeeze()\n",
        "  for diag_pt in range(diag_line[:, 0].min(), 1+diag_line[:, 0].max()):\n",
        "    diagram[diag_pt, diag_pt+diag_diff] += 1"
      ],
      "execution_count": 64,
      "outputs": []
    },
    {
      "cell_type": "code",
      "metadata": {
        "id": "0YxlN5Hxhz6P"
      },
      "source": [
        "# get indices of CROSS diagonal sets of pts\n",
        "# which are pairs with (x1 + y1) == (x2 + y2)\n",
        "# EG: 9+7 = 8+8 = 7+9 = 16\n",
        "xdiag_pts_idx = x1y1.sum(axis=1) == x2y2.sum(axis=1)\n",
        "\n",
        "# the example shows a pair with (x1 == y2) and (x2 == y1) like this:\n",
        "#   xdiag_pts_idx = np.all(x1y1 == np.roll(x2y2, 1, axis=1), axis=1)\n",
        "# but there's only one pair (21, 853) -> (853, 21) like that"
      ],
      "execution_count": 65,
      "outputs": []
    },
    {
      "cell_type": "code",
      "metadata": {
        "colab": {
          "base_uri": "https://localhost:8080/"
        },
        "id": "HBUYSMgqkXCK",
        "outputId": "27dad039-220a-473f-fb0b-f70aa54084fa"
      },
      "source": [
        "xdiag_lines = puzzle_input5[xdiag_pts_idx, :, :]\n",
        "# there are many pairs, but they are not all  (r, s) -> (s, r) pairs!\n",
        "xdiag_lines[35:40]"
      ],
      "execution_count": 66,
      "outputs": [
        {
          "output_type": "execute_result",
          "data": {
            "text/plain": [
              "array([[[871, 242],\n",
              "        [474, 639]],\n",
              "\n",
              "       [[319, 738],\n",
              "        [945, 112]],\n",
              "\n",
              "       [[ 21, 853],\n",
              "        [853,  21]],\n",
              "\n",
              "       [[395, 623],\n",
              "        [217, 801]],\n",
              "\n",
              "       [[887, 212],\n",
              "        [217, 882]]])"
            ]
          },
          "metadata": {},
          "execution_count": 66
        }
      ]
    },
    {
      "cell_type": "code",
      "metadata": {
        "id": "Vk2mZsy8gLR-"
      },
      "source": [
        "for xdiag_line in xdiag_lines:\n",
        "  xdiag_tot = xdiag_line[0].sum()\n",
        "  for xdiag_pt in range(xdiag_line[:, 0].min(), 1+xdiag_line[:, 0].max()):\n",
        "    diagram[xdiag_pt, xdiag_tot-xdiag_pt] += 1"
      ],
      "execution_count": 67,
      "outputs": []
    },
    {
      "cell_type": "code",
      "metadata": {
        "colab": {
          "base_uri": "https://localhost:8080/"
        },
        "id": "Uc9Xpzc8kbfh",
        "outputId": "9d3ce87f-e348-447f-909f-0df1d80fcc53"
      },
      "source": [
        "diagram.max()"
      ],
      "execution_count": 68,
      "outputs": [
        {
          "output_type": "execute_result",
          "data": {
            "text/plain": [
              "5.0"
            ]
          },
          "metadata": {},
          "execution_count": 68
        }
      ]
    },
    {
      "cell_type": "code",
      "metadata": {
        "colab": {
          "base_uri": "https://localhost:8080/",
          "height": 0
        },
        "id": "_nrd1N7Skk5C",
        "outputId": "d09375c3-6825-4f61-dc22-421eb277a50d"
      },
      "source": [
        "plt.figure(figsize=(16, 12))\n",
        "plt.contourf(diagram, cmap='magma')\n",
        "plt.colorbar()"
      ],
      "execution_count": 69,
      "outputs": [
        {
          "output_type": "execute_result",
          "data": {
            "text/plain": [
              "<matplotlib.colorbar.Colorbar at 0x7faffa950110>"
            ]
          },
          "metadata": {},
          "execution_count": 69
        },
        {
          "output_type": "display_data",
          "data": {
            "image/png": "[encoded data removed]",
            "text/plain": [
              "<Figure size 1152x864 with 2 Axes>"
            ]
          },
          "metadata": {
            "needs_background": "light"
          }
        }
      ]
    },
    {
      "cell_type": "code",
      "metadata": {
        "colab": {
          "base_uri": "https://localhost:8080/"
        },
        "id": "XzVFZMU0lK1d",
        "outputId": "4c517db0-0469-47c5-f5fc-d41f3daf0f47"
      },
      "source": [
        "[np.sum(diagram == _) for _ in range(6)]"
      ],
      "execution_count": 70,
      "outputs": [
        {
          "output_type": "execute_result",
          "data": {
            "text/plain": [
              "[817108, 147464, 15179, 1229, 104, 6]"
            ]
          },
          "metadata": {},
          "execution_count": 70
        }
      ]
    },
    {
      "cell_type": "code",
      "metadata": {
        "colab": {
          "base_uri": "https://localhost:8080/"
        },
        "id": "kLhhDI-rlLPC",
        "outputId": "c54532af-2038-4f90-ef11-78dd53847437"
      },
      "source": [
        "np.sum(diagram >= 2)"
      ],
      "execution_count": 71,
      "outputs": [
        {
          "output_type": "execute_result",
          "data": {
            "text/plain": [
              "16518"
            ]
          },
          "metadata": {},
          "execution_count": 71
        }
      ]
    },
    {
      "cell_type": "code",
      "metadata": {
        "id": "e7FR6M0zk6Hf"
      },
      "source": [
        "# check answer is 16518\n",
        "assert np.sum(diagram >= 2) == 16518"
      ],
      "execution_count": 72,
      "outputs": []
    },
    {
      "cell_type": "markdown",
      "metadata": {
        "id": "l8wYRBwwrjcZ"
      },
      "source": [
        "# Day 6 part 1\n",
        "Lantern Fish"
      ]
    },
    {
      "cell_type": "code",
      "metadata": {
        "colab": {
          "base_uri": "https://localhost:8080/"
        },
        "id": "8ne1VgQ3rmUr",
        "outputId": "46f53868-af16-4c49-d0e0-e4ad83f59f1c"
      },
      "source": [
        "with (AOC_DIR / 'puzzle_input6.txt').open() as f:\n",
        "  puzzle_input6 = np.array(f.read().split(','), int)\n",
        "puzzle_input6.size"
      ],
      "execution_count": 73,
      "outputs": [
        {
          "output_type": "execute_result",
          "data": {
            "text/plain": [
              "300"
            ]
          },
          "metadata": {},
          "execution_count": 73
        }
      ]
    },
    {
      "cell_type": "code",
      "metadata": {
        "id": "DPQ22naKscRL"
      },
      "source": [
        "NDAYS = 80\n",
        "lanternfish = np.copy(puzzle_input6)\n",
        "population = [lanternfish]\n",
        "for day in range(NDAYS):\n",
        "  # Each day, a 0 becomes a 6 and adds a new 8 to the end of the list, while\n",
        "  # each other number decreases by 1 if it was present at the start of the day.\n",
        "  lanternfish = lanternfish - 1  # creates a copy\n",
        "  new_fish = np.sum(lanternfish < 0)\n",
        "  if new_fish > 0:\n",
        "    lanternfish = np.append(\n",
        "        np.where(lanternfish < 0, 6, lanternfish), [8]*new_fish)\n",
        "  population.append(lanternfish)"
      ],
      "execution_count": 74,
      "outputs": []
    },
    {
      "cell_type": "code",
      "metadata": {
        "colab": {
          "base_uri": "https://localhost:8080/"
        },
        "id": "Msr3sQqDtzc2",
        "outputId": "adb321ed-d88f-4196-d1d5-034b952f2e80"
      },
      "source": [
        "population[-1].size"
      ],
      "execution_count": 75,
      "outputs": [
        {
          "output_type": "execute_result",
          "data": {
            "text/plain": [
              "377263"
            ]
          },
          "metadata": {},
          "execution_count": 75
        }
      ]
    },
    {
      "cell_type": "code",
      "metadata": {
        "id": "gRl9FDKPt1rF"
      },
      "source": [
        "# check answer is 377263\n",
        "assert population[-1].size == 377263"
      ],
      "execution_count": 76,
      "outputs": []
    },
    {
      "cell_type": "markdown",
      "metadata": {
        "id": "Nh6OKmp8yeXm"
      },
      "source": [
        "# Day 6 part 2"
      ]
    },
    {
      "cell_type": "code",
      "metadata": {
        "colab": {
          "base_uri": "https://localhost:8080/"
        },
        "id": "6l5dBJ6fl9GS",
        "outputId": "5898821b-5894-4e4c-ac79-4bf661f5cde8"
      },
      "source": [
        "INIT_STATE = np.array([3, 4, 3, 1, 2], int)\n",
        "NEW_STATE = 8\n",
        "TIMER = 6\n",
        "\n",
        "\n",
        "def simulate_lanternfish(init_state, ndays):\n",
        "  lanternfish = init_state.tolist()\n",
        "  # states, counts = np.unique(init_state, return_counts=True)\n",
        "  states = [lanternfish.count(state) for state in range(-1, NEW_STATE+1)]\n",
        "  for day in range(ndays):\n",
        "    states = np.roll(states, -1)\n",
        "    states[NEW_STATE+1] += states[0]\n",
        "    states[TIMER+1] += states[0]\n",
        "    states[0] = 0\n",
        "\n",
        "  return sum(states)\n",
        "\n",
        "\n",
        "assert simulate_lanternfish(INIT_STATE, 18) == 26\n",
        "assert simulate_lanternfish(INIT_STATE, 80) == 5934\n",
        "tot_fish = simulate_lanternfish(INIT_STATE, 256)\n",
        "assert tot_fish == 26984457539\n",
        "tot_fish"
      ],
      "execution_count": 77,
      "outputs": [
        {
          "output_type": "execute_result",
          "data": {
            "text/plain": [
              "26984457539"
            ]
          },
          "metadata": {},
          "execution_count": 77
        }
      ]
    },
    {
      "cell_type": "code",
      "metadata": {
        "colab": {
          "base_uri": "https://localhost:8080/"
        },
        "id": "NS-p6LoTzLrV",
        "outputId": "0b15c471-4978-4322-854d-72a3d4fd2918"
      },
      "source": [
        "%timeit simulate_lanternfish(INIT_STATE, 256)"
      ],
      "execution_count": 78,
      "outputs": [
        {
          "output_type": "stream",
          "name": "stdout",
          "text": [
            "100 loops, best of 5: 4.61 ms per loop\n"
          ]
        }
      ]
    },
    {
      "cell_type": "code",
      "metadata": {
        "colab": {
          "base_uri": "https://localhost:8080/"
        },
        "id": "64Ro6MUOmMge",
        "outputId": "17f8e2b2-d81b-4612-bc54-312187d4d37b"
      },
      "source": [
        "tot_fish = simulate_lanternfish(puzzle_input6, 80)\n",
        "assert tot_fish == 377263\n",
        "tot_fish"
      ],
      "execution_count": 79,
      "outputs": [
        {
          "output_type": "execute_result",
          "data": {
            "text/plain": [
              "377263"
            ]
          },
          "metadata": {},
          "execution_count": 79
        }
      ]
    },
    {
      "cell_type": "code",
      "metadata": {
        "colab": {
          "base_uri": "https://localhost:8080/"
        },
        "id": "7_drrRnGzmyY",
        "outputId": "609eb889-a10d-481b-9ea7-90943ff77244"
      },
      "source": [
        "%timeit simulate_lanternfish(puzzle_input6, 80)"
      ],
      "execution_count": 80,
      "outputs": [
        {
          "output_type": "stream",
          "name": "stdout",
          "text": [
            "1000 loops, best of 5: 1.49 ms per loop\n"
          ]
        }
      ]
    },
    {
      "cell_type": "code",
      "metadata": {
        "colab": {
          "base_uri": "https://localhost:8080/"
        },
        "id": "-DAO0DJU1s3f",
        "outputId": "7d30f41e-1438-4643-c170-3e582ce31798"
      },
      "source": [
        "simulate_lanternfish(puzzle_input6, 256)"
      ],
      "execution_count": 81,
      "outputs": [
        {
          "output_type": "execute_result",
          "data": {
            "text/plain": [
              "1695929023803"
            ]
          },
          "metadata": {},
          "execution_count": 81
        }
      ]
    },
    {
      "cell_type": "markdown",
      "metadata": {
        "id": "U6lu6mlyR1pH"
      },
      "source": [
        "# Day 7 part 1\n",
        "Crab submarine fuel consumption"
      ]
    },
    {
      "cell_type": "code",
      "metadata": {
        "id": "vC5XU5mH1v-b",
        "colab": {
          "base_uri": "https://localhost:8080/"
        },
        "outputId": "dbce6c6e-68cc-4eea-b002-9e0c367d5347"
      },
      "source": [
        "with (AOC_DIR / 'puzzle_input7.txt').open() as f:\n",
        "  puzzle_input7 = np.array(f.read().split(','), int)\n",
        "puzzle_input7.size"
      ],
      "execution_count": 82,
      "outputs": [
        {
          "output_type": "execute_result",
          "data": {
            "text/plain": [
              "1000"
            ]
          },
          "metadata": {},
          "execution_count": 82
        }
      ]
    },
    {
      "cell_type": "code",
      "metadata": {
        "id": "TGLfsc89Ry7e"
      },
      "source": [
        "TEST_INPUT7 = np.array([16, 1, 2, 0, 4, 2, 7, 1, 2, 14])"
      ],
      "execution_count": 83,
      "outputs": []
    },
    {
      "cell_type": "code",
      "metadata": {
        "colab": {
          "base_uri": "https://localhost:8080/"
        },
        "id": "8W66T4AFSRH8",
        "outputId": "e5f3b744-b886-48f4-84c3-763932ffb0f8"
      },
      "source": [
        "TEST_INPUT7.mean()"
      ],
      "execution_count": 84,
      "outputs": [
        {
          "output_type": "execute_result",
          "data": {
            "text/plain": [
              "4.9"
            ]
          },
          "metadata": {},
          "execution_count": 84
        }
      ]
    },
    {
      "cell_type": "code",
      "metadata": {
        "colab": {
          "base_uri": "https://localhost:8080/"
        },
        "id": "f9FVcTPCSVBu",
        "outputId": "fbf0efa9-1687-41de-e294-80696fc618b4"
      },
      "source": [
        "np.median(TEST_INPUT7)"
      ],
      "execution_count": 85,
      "outputs": [
        {
          "output_type": "execute_result",
          "data": {
            "text/plain": [
              "2.0"
            ]
          },
          "metadata": {},
          "execution_count": 85
        }
      ]
    },
    {
      "cell_type": "code",
      "metadata": {
        "colab": {
          "base_uri": "https://localhost:8080/"
        },
        "id": "iAAA2ZA9SZHe",
        "outputId": "0267b3be-7953-4361-bbe2-6dd6d271d218"
      },
      "source": [
        "puzzle_input7_median = np.median(puzzle_input7).astype(int)\n",
        "puzzle_input7_median"
      ],
      "execution_count": 86,
      "outputs": [
        {
          "output_type": "execute_result",
          "data": {
            "text/plain": [
              "332"
            ]
          },
          "metadata": {},
          "execution_count": 86
        }
      ]
    },
    {
      "cell_type": "code",
      "metadata": {
        "colab": {
          "base_uri": "https://localhost:8080/"
        },
        "id": "2mivTq_hSxny",
        "outputId": "b47ed38b-b1a2-4972-9bff-7dcb9f5fbda6"
      },
      "source": [
        "fuel = np.abs(puzzle_input7 - puzzle_input7_median).sum()\n",
        "fuel"
      ],
      "execution_count": 87,
      "outputs": [
        {
          "output_type": "execute_result",
          "data": {
            "text/plain": [
              "357353"
            ]
          },
          "metadata": {},
          "execution_count": 87
        }
      ]
    },
    {
      "cell_type": "code",
      "metadata": {
        "colab": {
          "base_uri": "https://localhost:8080/"
        },
        "id": "yoEIdgGfTLdC",
        "outputId": "8383b98d-1dcd-4eb1-a956-8c8e471b3e55"
      },
      "source": [
        "# DEMO: check that the median is closest distance for example\n",
        "[np.abs(TEST_INPUT7 - _).sum() for _ in (1, 2, 3)]"
      ],
      "execution_count": 88,
      "outputs": [
        {
          "output_type": "execute_result",
          "data": {
            "text/plain": [
              "[41, 37, 39]"
            ]
          },
          "metadata": {},
          "execution_count": 88
        }
      ]
    },
    {
      "cell_type": "code",
      "metadata": {
        "colab": {
          "base_uri": "https://localhost:8080/"
        },
        "id": "nbmVY6CjTPcJ",
        "outputId": "1725b309-f76f-4c69-c346-2abb59db1451"
      },
      "source": [
        "# DEMO: check that median is also closest distance for puzzle input\n",
        "[np.abs(puzzle_input7 - _).sum() for _ in (puzzle_input7_median+dp for dp in range(-1, 2))]"
      ],
      "execution_count": 89,
      "outputs": [
        {
          "output_type": "execute_result",
          "data": {
            "text/plain": [
              "[357355, 357353, 357355]"
            ]
          },
          "metadata": {},
          "execution_count": 89
        }
      ]
    },
    {
      "cell_type": "code",
      "metadata": {
        "colab": {
          "base_uri": "https://localhost:8080/"
        },
        "id": "3gPKQ9AQTp2i",
        "outputId": "443fe2df-5cfd-4477-cc94-67674f862fc0"
      },
      "source": [
        "# check answer is 357353\n",
        "fuel == 357353"
      ],
      "execution_count": 90,
      "outputs": [
        {
          "output_type": "execute_result",
          "data": {
            "text/plain": [
              "True"
            ]
          },
          "metadata": {},
          "execution_count": 90
        }
      ]
    },
    {
      "cell_type": "markdown",
      "metadata": {
        "id": "8dbZZ-YNU2yA"
      },
      "source": [
        "# Day 7 part 2\n",
        "more complicated fuel consumption"
      ]
    },
    {
      "cell_type": "code",
      "metadata": {
        "colab": {
          "base_uri": "https://localhost:8080/"
        },
        "id": "wDyh3vNGVBaM",
        "outputId": "ea921282-91fd-4952-d14c-fed61ee3cab6"
      },
      "source": [
        "# the mean was close to the answer for the example data,\n",
        "# so let's just guess this is it, and brute force test it\n",
        "puzzle_input7_mean = np.mean(puzzle_input7).astype(int)\n",
        "puzzle_input7_mean"
      ],
      "execution_count": 91,
      "outputs": [
        {
          "output_type": "execute_result",
          "data": {
            "text/plain": [
              "489"
            ]
          },
          "metadata": {},
          "execution_count": 91
        }
      ]
    },
    {
      "cell_type": "code",
      "metadata": {
        "id": "NWgWyXQ9Vn4z"
      },
      "source": [
        "def sum_range(start, end):\n",
        "  \"\"\"find the sum of a sequence of numbers\"\"\"\n",
        "  return (start+end)*(end-start+1)/2\n",
        "\n",
        "\n",
        "assert sum_range(1, 11) == 66"
      ],
      "execution_count": 92,
      "outputs": []
    },
    {
      "cell_type": "code",
      "metadata": {
        "colab": {
          "base_uri": "https://localhost:8080/"
        },
        "id": "F-twuFyPWMkN",
        "outputId": "e3f643e7-b155-478d-da9a-f089185b8aff"
      },
      "source": [
        "# DEMO: test that 5 is the position with lowest fuel in example\n",
        "[sum_range(1, np.abs(TEST_INPUT7 - _)).sum() for _ in range(2, 8)]"
      ],
      "execution_count": 93,
      "outputs": [
        {
          "output_type": "execute_result",
          "data": {
            "text/plain": [
              "[206.0, 183.0, 170.0, 168.0, 176.0, 194.0]"
            ]
          },
          "metadata": {},
          "execution_count": 93
        }
      ]
    },
    {
      "cell_type": "code",
      "metadata": {
        "colab": {
          "base_uri": "https://localhost:8080/",
          "height": 295
        },
        "id": "mlS0zROjW5tz",
        "outputId": "2228807b-4a55-475e-d98f-d442d1a5cc01"
      },
      "source": [
        "startend = np.arange(puzzle_input7_mean-1, puzzle_input7_mean+3)\n",
        "plt.plot(\n",
        "    startend,\n",
        "    [sum_range(1, np.abs(puzzle_input7 - _)).sum() for _ in startend])\n",
        "plt.grid()\n",
        "plt.title('treachery of whales')\n",
        "plt.xlabel('crab horizontal position')\n",
        "plt.ylabel('fuel consumption')\n",
        "plt.savefig('whales.png')"
      ],
      "execution_count": 94,
      "outputs": [
        {
          "output_type": "display_data",
          "data": {
            "image/png": "[encoded data removed]",
            "text/plain": [
              "<Figure size 432x288 with 1 Axes>"
            ]
          },
          "metadata": {
            "needs_background": "light"
          }
        }
      ]
    },
    {
      "cell_type": "code",
      "metadata": {
        "colab": {
          "base_uri": "https://localhost:8080/"
        },
        "id": "XK559AoqZlB_",
        "outputId": "9f8ea902-def2-42b0-9756-d644510bb967"
      },
      "source": [
        "# DEMO: same range as plot\n",
        "[sum_range(1, np.abs(puzzle_input7 - _)).sum() for _ in startend]"
      ],
      "execution_count": 95,
      "outputs": [
        {
          "output_type": "execute_result",
          "data": {
            "text/plain": [
              "[104823019.0, 104822130.0, 104822244.0, 104823358.0]"
            ]
          },
          "metadata": {},
          "execution_count": 95
        }
      ]
    },
    {
      "cell_type": "code",
      "metadata": {
        "colab": {
          "base_uri": "https://localhost:8080/"
        },
        "id": "HvJZwQOzW8vp",
        "outputId": "af34cf5c-329e-45cb-cf04-1d1f873eaca4"
      },
      "source": [
        "answer = sum_range(1, np.abs(puzzle_input7 - puzzle_input7_mean)).sum()\n",
        "answer"
      ],
      "execution_count": 96,
      "outputs": [
        {
          "output_type": "execute_result",
          "data": {
            "text/plain": [
              "104822130.0"
            ]
          },
          "metadata": {},
          "execution_count": 96
        }
      ]
    },
    {
      "cell_type": "code",
      "metadata": {
        "id": "2WasMvyiiJ_A"
      },
      "source": [
        "# check answer is 104822130\n",
        "assert answer == 104822130"
      ],
      "execution_count": 97,
      "outputs": []
    },
    {
      "cell_type": "markdown",
      "source": [
        "# day 8 part 1\n",
        "Seven Segment Search"
      ],
      "metadata": {
        "id": "lW3P5o9BelYV"
      }
    },
    {
      "cell_type": "code",
      "source": [
        "with (AOC_DIR / 'puzzle_input8.txt').open() as f:\n",
        "  puzzle_input8 = [[_.split() for _ in line.split('|')] for line in f]\n",
        "puzzle_input8[0]"
      ],
      "metadata": {
        "colab": {
          "base_uri": "https://localhost:8080/"
        },
        "id": "hfndJo0depYh",
        "outputId": "2b35fb6a-31c6-463f-d7a8-eda51e9b7ed2"
      },
      "execution_count": 98,
      "outputs": [
        {
          "output_type": "execute_result",
          "data": {
            "text/plain": [
              "[['bg',\n",
              "  'gcdaeb',\n",
              "  'aebg',\n",
              "  'efabdcg',\n",
              "  'abdce',\n",
              "  'cafdbe',\n",
              "  'fcbdeg',\n",
              "  'bdacg',\n",
              "  'gbd',\n",
              "  'cafgd'],\n",
              " ['daecb', 'dcbae', 'gb', 'eabg']]"
            ]
          },
          "metadata": {},
          "execution_count": 98
        }
      ]
    },
    {
      "cell_type": "code",
      "source": [
        "notes, output_values = list(zip(*puzzle_input8))\n",
        "output_values[0]"
      ],
      "metadata": {
        "colab": {
          "base_uri": "https://localhost:8080/"
        },
        "id": "c1xCIo2liCol",
        "outputId": "959f0acc-eb58-40fe-b3d7-d8608ec84baa"
      },
      "execution_count": 99,
      "outputs": [
        {
          "output_type": "execute_result",
          "data": {
            "text/plain": [
              "['daecb', 'dcbae', 'gb', 'eabg']"
            ]
          },
          "metadata": {},
          "execution_count": 99
        }
      ]
    },
    {
      "cell_type": "code",
      "source": [
        "UNIQUE_SEGMENTS = {2: 1, 4: 4, 3: 7, 7: 8}"
      ],
      "metadata": {
        "id": "Esol8Upbl3x2"
      },
      "execution_count": 100,
      "outputs": []
    },
    {
      "cell_type": "code",
      "source": [
        "def count_unique_digits(output_values):\n",
        "  digits_count = 0\n",
        "  for output_value in output_values:\n",
        "    output_value_counts = [len(_) for _ in output_value]\n",
        "    for test in UNIQUE_SEGMENTS:\n",
        "      digits_count += output_value_counts.count(test)\n",
        "  return digits_count\n",
        "\n",
        "\n",
        "answer = count_unique_digits(output_values)\n",
        "assert answer == 383\n",
        "answer"
      ],
      "metadata": {
        "colab": {
          "base_uri": "https://localhost:8080/"
        },
        "id": "s53Vg_Dem-N_",
        "outputId": "12d699fe-a79b-4a55-8c54-16b041419493"
      },
      "execution_count": 101,
      "outputs": [
        {
          "output_type": "execute_result",
          "data": {
            "text/plain": [
              "383"
            ]
          },
          "metadata": {},
          "execution_count": 101
        }
      ]
    },
    {
      "cell_type": "code",
      "source": [
        "example_input8_str = \"\"\"be cfbegad cbdgef fgaecd cgeb fdcge agebfd fecdb fabcd edb | fdgacbe cefdb cefbgd gcbe\n",
        "edbfga begcd cbg gc gcadebf fbgde acbgfd abcde gfcbed gfec | fcgedb cgb dgebacf gc\n",
        "fgaebd cg bdaec gdafb agbcfd gdcbef bgcad gfac gcb cdgabef | cg cg fdcagb cbg\n",
        "fbegcd cbd adcefb dageb afcb bc aefdc ecdab fgdeca fcdbega | efabcd cedba gadfec cb\n",
        "aecbfdg fbg gf bafeg dbefa fcge gcbea fcaegb dgceab fcbdga | gecf egdcabf bgf bfgea\n",
        "fgeab ca afcebg bdacfeg cfaedg gcfdb baec bfadeg bafgc acf | gebdcfa ecba ca fadegcb\n",
        "dbcfg fgd bdegcaf fgec aegbdf ecdfab fbedc dacgb gdcebf gf | cefg dcbef fcge gbcadfe\n",
        "bdfegc cbegaf gecbf dfcage bdacg ed bedf ced adcbefg gebcd | ed bcgafe cdgba cbgef\n",
        "egadfb cdbfeg cegd fecab cgb gbdefca cg fgcdab egfdb bfceg | gbdfcae bgc cg cgb\n",
        "gcafb gcf dcaebfg ecagb gf abcdeg gaef cafbge fdbac fegbdc | fgae cfgab fg bagce\"\"\"\n",
        "example_input8 = [\n",
        "  [_.split() for _ in line.split('|')] for line in example_input8_str.split('\\n')]\n",
        "example_notes, example_output_values = list(zip(*example_input8))\n",
        "count_unique_digits(example_output_values)"
      ],
      "metadata": {
        "colab": {
          "base_uri": "https://localhost:8080/"
        },
        "id": "AcBH5jVInO-Q",
        "outputId": "06ad5834-dae4-44e4-f803-2017abb43a4e"
      },
      "execution_count": 102,
      "outputs": [
        {
          "output_type": "execute_result",
          "data": {
            "text/plain": [
              "26"
            ]
          },
          "metadata": {},
          "execution_count": 102
        }
      ]
    },
    {
      "cell_type": "markdown",
      "source": [
        "# Day 8 part 2"
      ],
      "metadata": {
        "id": "GsFjjx4Oszu4"
      }
    },
    {
      "cell_type": "code",
      "source": [
        "example_notes[0]"
      ],
      "metadata": {
        "colab": {
          "base_uri": "https://localhost:8080/"
        },
        "id": "-WEgEybgnQhN",
        "outputId": "6a182390-33a6-44f7-a801-318f5e27f50f"
      },
      "execution_count": 103,
      "outputs": [
        {
          "output_type": "execute_result",
          "data": {
            "text/plain": [
              "['be',\n",
              " 'cfbegad',\n",
              " 'cbdgef',\n",
              " 'fgaecd',\n",
              " 'cgeb',\n",
              " 'fdcge',\n",
              " 'agebfd',\n",
              " 'fecdb',\n",
              " 'fabcd',\n",
              " 'edb']"
            ]
          },
          "metadata": {},
          "execution_count": 103
        }
      ]
    },
    {
      "cell_type": "code",
      "source": [
        "# find easy digits\n",
        "example_digits = {}\n",
        "example_segments = {}\n",
        "for test in example_notes[0]:\n",
        "  num_segments = len(test)\n",
        "  if num_segments in UNIQUE_SEGMENTS:\n",
        "    example_digits[test] = UNIQUE_SEGMENTS[num_segments]\n",
        "    example_segments[UNIQUE_SEGMENTS[num_segments]] = set(test)\n",
        "\n",
        "# use 1 and 7 to find top segment\n",
        "top_segment = example_segments[7] - example_segments[1]\n",
        "print(f\"top segment: {''.join(top_segment)}\")\n",
        "\n",
        "# find the number 3\n",
        "middle_segments = ''\n",
        "for test in example_notes[0]:\n",
        "  num_segments = len(test)\n",
        "  if (num_segments == 5) and (example_segments[1] < set(test)):\n",
        "    example_digits[test] = 3\n",
        "    example_segments[3] = set(test)\n",
        "    middle_segments = set(test) - example_segments[1]\n",
        "    print(f\"middle segments: {''.join(middle_segments)}\")\n",
        "    break\n",
        "\n",
        "# find 2 or 5\n",
        "two_or_five = ''\n",
        "two = ''  # segment on bottom left\n",
        "five = ''  # segment on top left\n",
        "six_or_nine = ''\n",
        "six = ''  # segment on bottom right\n",
        "nine = ''  # segment on top right\n",
        "for test in example_notes[0]:\n",
        "  num_segments = len(test)\n",
        "  if num_segments == 5:\n",
        "    two_or_five = set(test) - middle_segments - example_segments[1]\n",
        "    six_or_nine = set(test) - middle_segments - two_or_five\n",
        "    if two_or_five:\n",
        "      # use 4 to determine if two or five\n",
        "      # b/c 4 shares top left with 5\n",
        "      if two_or_five < example_segments[4]:  # five\n",
        "        example_digits[test] = 5\n",
        "        example_segments[5] = set(test)\n",
        "        five = ''.join(two_or_five)\n",
        "        print(f\"top left (five): {five}\")\n",
        "        six = ''.join(six_or_nine)\n",
        "        print(f\"bottom right (six): {six}\")\n",
        "      else:  # two\n",
        "        example_digits[test] = 2\n",
        "        example_segments[2] = set(test)\n",
        "        two = ''.join(two_or_five)\n",
        "        print(f\"bottom left (two): {two}\")\n",
        "        nine = ''.join(six_or_nine)\n",
        "        print(f\"top right (nine): {nine}\")\n",
        "\n",
        "middle_segment = example_segments[4] - set(two) - example_segments[1]\n",
        "print(f\"middle segment: {''.join(middle_segment)}\")\n",
        "bottom_segment = middle_segments - top_segment - middle_segment\n",
        "print(f\"bottom segment: {''.join(bottom_segment)}\")\n",
        "zero = {two, five} | bottom_segment | top_segment | example_segments[1]\n",
        "print(f\"zero: {''.join(zero)}\")\n",
        "nine = {five} | middle_segments | example_segments[1]\n",
        "print(f\"nine: {''.join(nine)}\")\n",
        "six = {two, five, six} | middle_segments\n",
        "print(f\"six: {''.join(six)}\")\n",
        "\n",
        "# this last part is a sanity check\n",
        "for test in example_notes[0]:\n",
        "  num_segments = len(test)\n",
        "  if num_segments == 6:\n",
        "    if set(test) == zero:\n",
        "      example_digits[test] = 0\n",
        "      example_segments[0] = set(test)\n",
        "      print(f\"zero: {''.join(zero)}\")\n",
        "    elif set(test) == nine:\n",
        "      example_digits[test] = 9\n",
        "      example_segments[9] = set(test)\n",
        "      print(f\"nine: {''.join(nine)}\")\n",
        "    elif set(test) == six:\n",
        "      example_digits[test] = 6\n",
        "      example_segments[6] = set(test)\n",
        "      print(f\"six: {''.join(six)}\")"
      ],
      "metadata": {
        "colab": {
          "base_uri": "https://localhost:8080/"
        },
        "id": "Af5UCOGxntKk",
        "outputId": "c9c351c8-c8e9-4cd5-b285-2222aca7edaf"
      },
      "execution_count": 104,
      "outputs": [
        {
          "output_type": "stream",
          "name": "stdout",
          "text": [
            "top segment: d\n",
            "middle segments: fcd\n",
            "top left (five): g\n",
            "bottom right (six): e\n",
            "bottom left (two): a\n",
            "top right (nine): b\n",
            "middle segment: gc\n",
            "bottom segment: f\n",
            "zero: ebfagd\n",
            "nine: cbfegd\n",
            "six: cfagde\n",
            "nine: cbfegd\n",
            "six: cfagde\n",
            "zero: ebfagd\n"
          ]
        }
      ]
    },
    {
      "cell_type": "code",
      "source": [
        "example_digits"
      ],
      "metadata": {
        "colab": {
          "base_uri": "https://localhost:8080/"
        },
        "id": "827DjZxArD9a",
        "outputId": "4e9e941b-0ba0-4731-d3c5-aca232a66c52"
      },
      "execution_count": 105,
      "outputs": [
        {
          "output_type": "execute_result",
          "data": {
            "text/plain": [
              "{'agebfd': 0,\n",
              " 'be': 1,\n",
              " 'cbdgef': 9,\n",
              " 'cfbegad': 8,\n",
              " 'cgeb': 4,\n",
              " 'edb': 7,\n",
              " 'fabcd': 2,\n",
              " 'fdcge': 5,\n",
              " 'fecdb': 3,\n",
              " 'fgaecd': 6}"
            ]
          },
          "metadata": {},
          "execution_count": 105
        }
      ]
    },
    {
      "cell_type": "code",
      "source": [
        "example_segments"
      ],
      "metadata": {
        "colab": {
          "base_uri": "https://localhost:8080/"
        },
        "id": "6FgM6deOx1rP",
        "outputId": "4db04e9a-0846-4cc1-9221-361d2e6f398a"
      },
      "execution_count": 106,
      "outputs": [
        {
          "output_type": "execute_result",
          "data": {
            "text/plain": [
              "{0: {'a', 'b', 'd', 'e', 'f', 'g'},\n",
              " 1: {'b', 'e'},\n",
              " 2: {'a', 'b', 'c', 'd', 'f'},\n",
              " 3: {'b', 'c', 'd', 'e', 'f'},\n",
              " 4: {'b', 'c', 'e', 'g'},\n",
              " 5: {'c', 'd', 'e', 'f', 'g'},\n",
              " 6: {'a', 'c', 'd', 'e', 'f', 'g'},\n",
              " 7: {'b', 'd', 'e'},\n",
              " 8: {'a', 'b', 'c', 'd', 'e', 'f', 'g'},\n",
              " 9: {'b', 'c', 'd', 'e', 'f', 'g'}}"
            ]
          },
          "metadata": {},
          "execution_count": 106
        }
      ]
    },
    {
      "cell_type": "code",
      "source": [
        "def analyze_digits(notes):\n",
        "  # find easy digits\n",
        "  digits = {}\n",
        "  segments = {}\n",
        "  for test in notes:\n",
        "    num_segments = len(test)\n",
        "    if num_segments in UNIQUE_SEGMENTS:\n",
        "      digits[test] = UNIQUE_SEGMENTS[num_segments]\n",
        "      segments[UNIQUE_SEGMENTS[num_segments]] = set(test)\n",
        "\n",
        "  # use 1 and 7 to find top segment\n",
        "  top_segment = segments[7] - segments[1]\n",
        "\n",
        "  # find the number 3\n",
        "  middle_segments = ''\n",
        "  for test in notes:\n",
        "    num_segments = len(test)\n",
        "    if (num_segments == 5) and (segments[1] < set(test)):\n",
        "      digits[test] = 3\n",
        "      segments[3] = set(test)\n",
        "      middle_segments = set(test) - segments[1]\n",
        "      break\n",
        "\n",
        "  # find 2 or 5\n",
        "  two_or_five = ''\n",
        "  two = ''  # segment on bottom left\n",
        "  five = ''  # segment on top left\n",
        "  six_or_nine = ''\n",
        "  six = ''  # segment on bottom right\n",
        "  nine = ''  # segment on top right\n",
        "  for test in notes:\n",
        "    num_segments = len(test)\n",
        "    if num_segments == 5:\n",
        "      two_or_five = set(test) - middle_segments - segments[1]\n",
        "      six_or_nine = set(test) - middle_segments - two_or_five\n",
        "      if two_or_five:\n",
        "        # use 4 to determine if two or five\n",
        "        # b/c 4 shares top left with 5\n",
        "        if two_or_five < segments[4]:  # five\n",
        "          digits[test] = 5\n",
        "          segments[5] = set(test)\n",
        "          five = ''.join(two_or_five)\n",
        "          six = ''.join(six_or_nine)\n",
        "        else:  # two\n",
        "          digits[test] = 2\n",
        "          segments[2] = set(test)\n",
        "          two = ''.join(two_or_five)\n",
        "          nine = ''.join(six_or_nine)\n",
        "\n",
        "  middle_segment = segments[4] - set(two) - segments[1]\n",
        "  bottom_segment = middle_segments - top_segment - middle_segment\n",
        "  zero = {two, five} | bottom_segment | top_segment | segments[1]\n",
        "  nine = {five} | middle_segments | segments[1]\n",
        "  six = {two, five, six} | middle_segments\n",
        "\n",
        "  # this last part is a sanity check\n",
        "  for test in notes:\n",
        "    num_segments = len(test)\n",
        "    if num_segments == 6:\n",
        "      if set(test) == zero:\n",
        "        digits[test] = 0\n",
        "        segments[0] = set(test)\n",
        "      elif set(test) == nine:\n",
        "        digits[test] = 9\n",
        "        segments[9] = set(test)\n",
        "      elif set(test) == six:\n",
        "        digits[test] = 6\n",
        "        segments[6] = set(test)\n",
        "  return digits, segments"
      ],
      "metadata": {
        "id": "5bPrP3yWyCPX"
      },
      "execution_count": 107,
      "outputs": []
    },
    {
      "cell_type": "code",
      "source": [
        "digits, segments = analyze_digits(example_notes[0])\n",
        "assert digits == example_digits\n",
        "assert segments == example_segments"
      ],
      "metadata": {
        "id": "FNQ5KVTEy3mh"
      },
      "execution_count": 108,
      "outputs": []
    },
    {
      "cell_type": "code",
      "source": [
        "example_note = \"\"\"acedgfb cdfbe gcdfa fbcad dab cefabd cdfgeb eafb cagedb ab\"\"\".split()\n",
        "digits, segments = analyze_digits(example_note)\n",
        "assert {\"acedgfb\": 8,\n",
        " \"cdfbe\": 5,\n",
        " \"gcdfa\": 2,\n",
        " \"fbcad\": 3,\n",
        " \"dab\": 7,\n",
        " \"cefabd\": 9,\n",
        " \"cdfgeb\": 6,\n",
        " \"eafb\": 4,\n",
        " \"cagedb\": 0,\n",
        " \"ab\": 1} == digits"
      ],
      "metadata": {
        "id": "xz6ifiLz0hTb"
      },
      "execution_count": 109,
      "outputs": []
    },
    {
      "cell_type": "code",
      "source": [
        "signal_pattern_test = \"cdfeb fcadb cdfeb cdbaf\".split()"
      ],
      "metadata": {
        "id": "msGfR-mwPmsg"
      },
      "execution_count": 110,
      "outputs": []
    },
    {
      "cell_type": "code",
      "source": [
        "def decode_signal(signal, segments):\n",
        "  decoded_signal = []\n",
        "  for s in signal:\n",
        "    for d in range(10):\n",
        "      if segments[d] == set(s):\n",
        "        decoded_signal.append(d)\n",
        "  return int(''.join(str(d) for d in decoded_signal))\n",
        "\n",
        "test_output = decode_signal(signal_pattern_test, segments)\n",
        "assert test_output == 5353\n",
        "test_output"
      ],
      "metadata": {
        "colab": {
          "base_uri": "https://localhost:8080/"
        },
        "id": "Ly1ma0peQwCV",
        "outputId": "4297cded-13db-48d1-d97d-470d88cd98c9"
      },
      "execution_count": 111,
      "outputs": [
        {
          "output_type": "execute_result",
          "data": {
            "text/plain": [
              "5353"
            ]
          },
          "metadata": {},
          "execution_count": 111
        }
      ]
    },
    {
      "cell_type": "code",
      "source": [
        "EXPECTED_OUTPUT = [int(o) for o in \"\"\"8394\n",
        "9781\n",
        "1197\n",
        "9361\n",
        "4873\n",
        "8418\n",
        "4548\n",
        "1625\n",
        "8717\n",
        "4315\"\"\".split()]\n",
        "\n",
        "test_output = []\n",
        "for test_data, output in zip(example_notes, example_output_values):\n",
        "  digits, segments = analyze_digits(test_data)\n",
        "  test_output.append(decode_signal(output, segments))\n",
        "assert test_output == EXPECTED_OUTPUT\n",
        "test_output"
      ],
      "metadata": {
        "colab": {
          "base_uri": "https://localhost:8080/"
        },
        "id": "bicIKte2RSe6",
        "outputId": "031de386-0ced-4ada-df60-8a71b9f37fdc"
      },
      "execution_count": 112,
      "outputs": [
        {
          "output_type": "execute_result",
          "data": {
            "text/plain": [
              "[8394, 9781, 1197, 9361, 4873, 8418, 4548, 1625, 8717, 4315]"
            ]
          },
          "metadata": {},
          "execution_count": 112
        }
      ]
    },
    {
      "cell_type": "code",
      "source": [
        "output = []\n",
        "for data, signal in puzzle_input8:\n",
        "  digits, segments = analyze_digits(data)\n",
        "  output.append(decode_signal(signal, segments))\n",
        "sum(output)"
      ],
      "metadata": {
        "colab": {
          "base_uri": "https://localhost:8080/"
        },
        "id": "WsVljQzKSJAP",
        "outputId": "c70c1d58-c927-476b-bd35-dda276f16aec"
      },
      "execution_count": 113,
      "outputs": [
        {
          "output_type": "execute_result",
          "data": {
            "text/plain": [
              "998900"
            ]
          },
          "metadata": {},
          "execution_count": 113
        }
      ]
    },
    {
      "cell_type": "code",
      "source": [
        "# check answer is correct\n",
        "assert sum(output) == 998900"
      ],
      "metadata": {
        "id": "uOx4CUe6SSEL"
      },
      "execution_count": 114,
      "outputs": []
    },
    {
      "cell_type": "markdown",
      "source": [
        "# Day 9 part 1\n",
        "Lava tubes"
      ],
      "metadata": {
        "id": "760uuDorlTo3"
      }
    },
    {
      "cell_type": "code",
      "source": [
        "EXAMPLE9 = \"\"\"2199943210\n",
        "3987894921\n",
        "9856789892\n",
        "8767896789\n",
        "9899965678\"\"\".split()\n",
        "EXAMPLE9 = np.array(\n",
        "    [[pos for pos in row] for row in EXAMPLE9], int)\n",
        "EXPECTED_LOW_PTS = [1, 0, 5, 5]\n",
        "EXPECTED_RISK = sum(pt+1 for pt in EXPECTED_LOW_PTS)\n",
        "EXPECTED_RISK"
      ],
      "metadata": {
        "colab": {
          "base_uri": "https://localhost:8080/"
        },
        "id": "9FPFDpmslW_a",
        "outputId": "b8cd2978-df1d-408a-dc14-883263c601b7"
      },
      "execution_count": 115,
      "outputs": [
        {
          "output_type": "execute_result",
          "data": {
            "text/plain": [
              "15"
            ]
          },
          "metadata": {},
          "execution_count": 115
        }
      ]
    },
    {
      "cell_type": "code",
      "source": [
        "EXAMPLE9"
      ],
      "metadata": {
        "colab": {
          "base_uri": "https://localhost:8080/"
        },
        "id": "21-D4svBnRk_",
        "outputId": "98136aa5-2ebb-4831-d429-d179008d93a2"
      },
      "execution_count": 116,
      "outputs": [
        {
          "output_type": "execute_result",
          "data": {
            "text/plain": [
              "array([[2, 1, 9, 9, 9, 4, 3, 2, 1, 0],\n",
              "       [3, 9, 8, 7, 8, 9, 4, 9, 2, 1],\n",
              "       [9, 8, 5, 6, 7, 8, 9, 8, 9, 2],\n",
              "       [8, 7, 6, 7, 8, 9, 6, 7, 8, 9],\n",
              "       [9, 8, 9, 9, 9, 6, 5, 6, 7, 8]])"
            ]
          },
          "metadata": {},
          "execution_count": 116
        }
      ]
    },
    {
      "cell_type": "code",
      "source": [
        "def local_minima(heightmap):\n",
        "    \"\"\"https://stackoverflow.com/a/3986476/1020470\"\"\"\n",
        "    array2d = np.pad(heightmap, 1, mode='constant', constant_values=9)\n",
        "    loc_min = ((array2d <= np.roll(array2d,  1, 0)) &\n",
        "        (array2d <= np.roll(array2d, -1, 0)) &\n",
        "        (array2d <= np.roll(array2d,  1, 1)) &\n",
        "        (array2d <= np.roll(array2d, -1, 1)))\n",
        "    return loc_min[1:-1, 1:-1] & (heightmap != 9)\n",
        "\n",
        "\n",
        "EXAMPLE9[local_minima(EXAMPLE9)]"
      ],
      "metadata": {
        "colab": {
          "base_uri": "https://localhost:8080/"
        },
        "id": "KViyVHHXBIlU",
        "outputId": "e6b445b8-d932-4e93-9a08-0f31ad45eeeb"
      },
      "execution_count": 140,
      "outputs": [
        {
          "output_type": "execute_result",
          "data": {
            "text/plain": [
              "array([1, 0, 5, 5])"
            ]
          },
          "metadata": {},
          "execution_count": 140
        }
      ]
    },
    {
      "cell_type": "code",
      "source": [
        "def find_low_pts(heightmap):\n",
        "  \"\"\"heightmap is a 2d numpy array\"\"\"\n",
        "  # left to right\n",
        "  dx = np.pad(np.sign(np.diff(heightmap, axis=1)), [(0, 0), (0, 1)])\n",
        "  dx2 = np.pad(np.diff(dx, axis=1), [(0, 0), (1, 0)])\n",
        "  # top to bottom\n",
        "  dy = np.pad(np.sign(np.diff(heightmap, axis=0)), [(0, 1), (0, 0)])\n",
        "  dy2 = np.pad(np.diff(dy, axis=0), [(1, 0), (0, 0)])\n",
        "  # right to left\n",
        "  dx_rev = np.pad(np.sign(-np.diff(heightmap, axis=1)), [(0, 0), (1, 0)])\n",
        "  dx2_rev = np.pad(-np.diff(dx_rev, axis=1), [(0, 0), (0, 1)])\n",
        "  # bottom to top\n",
        "  dy_rev = np.pad(np.sign(-np.diff(heightmap, axis=0)), [(1, 0), (0, 0)])\n",
        "  dy2_rev = np.pad(-np.diff(dy_rev, axis=0), [(0, 1), (0, 0)])\n",
        "  # find minima\n",
        "  dydx = dx2 + dy2 + dx2_rev + dy2_rev\n",
        "  # any local minima in the middle will be eight (8)\n",
        "  minima = dydx == 8\n",
        "  # check edges, local minima will be five (5)\n",
        "  minima[0, :] = (dydx[0, :] == 5)\n",
        "  minima[-1, :] = (dydx[-1, :] == 5)\n",
        "  minima[:, 0] = (dydx[:, 0] == 5)\n",
        "  minima[:, -1] = (dydx[:, -1] == 5)\n",
        "  # check corners, local minima will be two (2)\n",
        "  minima[0, 0] = (dydx[0, 0] == 2)\n",
        "  minima[0, -1] = (dydx[0, -1] == 2)\n",
        "  minima[-1, 0] = (dydx[-1, 0] == 2)\n",
        "  minima[-1, -1] = (dydx[-1, -1] == 2)\n",
        "  return heightmap[minima]\n",
        "\n",
        "\n",
        "example_low_pts = find_low_pts(EXAMPLE9)\n",
        "assert np.all(example_low_pts == EXPECTED_LOW_PTS)\n",
        "assert np.sum(example_low_pts+1) == EXPECTED_RISK"
      ],
      "metadata": {
        "id": "5kVB51uirO5_"
      },
      "execution_count": 117,
      "outputs": []
    },
    {
      "cell_type": "code",
      "source": [
        "with (AOC_DIR / 'puzzle_input9.txt').open() as f:\n",
        "  puzzle_input9 = np.array(\n",
        "    [[pos for pos in row.strip()] for row in f], int)\n",
        "puzzle_input9[:10, :10]"
      ],
      "metadata": {
        "colab": {
          "base_uri": "https://localhost:8080/"
        },
        "id": "6CLGwCWM7Ihh",
        "outputId": "eaefb75f-0d1f-4321-ccd1-96afa4ee7395"
      },
      "execution_count": 118,
      "outputs": [
        {
          "output_type": "execute_result",
          "data": {
            "text/plain": [
              "array([[4, 5, 6, 7, 8, 9, 4, 3, 0, 1],\n",
              "       [3, 4, 5, 8, 9, 6, 3, 2, 1, 2],\n",
              "       [2, 3, 4, 8, 9, 5, 4, 3, 2, 9],\n",
              "       [1, 2, 3, 7, 8, 9, 5, 4, 9, 8],\n",
              "       [3, 4, 5, 6, 7, 9, 7, 9, 8, 7],\n",
              "       [4, 5, 6, 7, 9, 8, 9, 8, 9, 6],\n",
              "       [5, 6, 7, 9, 8, 7, 8, 7, 8, 9],\n",
              "       [8, 7, 9, 8, 7, 6, 5, 6, 7, 8],\n",
              "       [9, 9, 8, 7, 6, 5, 4, 6, 8, 8],\n",
              "       [2, 3, 9, 8, 5, 4, 3, 5, 6, 7]])"
            ]
          },
          "metadata": {},
          "execution_count": 118
        }
      ]
    },
    {
      "cell_type": "code",
      "source": [
        "find_low_pts(puzzle_input9[:10, :10])"
      ],
      "metadata": {
        "colab": {
          "base_uri": "https://localhost:8080/"
        },
        "id": "1y2UF2bC8zK1",
        "outputId": "61e5fedd-895a-4991-b621-47ee3642979c"
      },
      "execution_count": 119,
      "outputs": [
        {
          "output_type": "execute_result",
          "data": {
            "text/plain": [
              "array([0, 1, 6, 2, 3])"
            ]
          },
          "metadata": {},
          "execution_count": 119
        }
      ]
    },
    {
      "cell_type": "code",
      "source": [
        "low_pts = find_low_pts(puzzle_input9)\n",
        "risk = np.sum(low_pts+1)\n",
        "risk"
      ],
      "metadata": {
        "colab": {
          "base_uri": "https://localhost:8080/"
        },
        "id": "_45Ci8ai9eOO",
        "outputId": "7598ea2f-cb0e-4148-dc83-529067f7e2fb"
      },
      "execution_count": 120,
      "outputs": [
        {
          "output_type": "execute_result",
          "data": {
            "text/plain": [
              "425"
            ]
          },
          "metadata": {},
          "execution_count": 120
        }
      ]
    },
    {
      "cell_type": "code",
      "source": [
        "# check answer is 425\n",
        "assert risk == 425"
      ],
      "metadata": {
        "id": "5Slz7HMO940W"
      },
      "execution_count": 121,
      "outputs": []
    },
    {
      "cell_type": "code",
      "source": [
        "# try the stack overflow solution\n",
        "so_solution = puzzle_input9[local_minima(puzzle_input9)]\n",
        "sum(so_solution+1)"
      ],
      "metadata": {
        "colab": {
          "base_uri": "https://localhost:8080/"
        },
        "id": "LGoJG22jIrMm",
        "outputId": "862d0500-6fc2-4226-99a4-840f42c5da6e"
      },
      "execution_count": 141,
      "outputs": [
        {
          "output_type": "execute_result",
          "data": {
            "text/plain": [
              "425"
            ]
          },
          "metadata": {},
          "execution_count": 141
        }
      ]
    },
    {
      "cell_type": "markdown",
      "source": [
        "# Day 9 part 2"
      ],
      "metadata": {
        "id": "oQtOEhKG-jS1"
      }
    },
    {
      "cell_type": "code",
      "source": [
        ""
      ],
      "metadata": {
        "id": "Yj3rDDOs-h_R"
      },
      "execution_count": null,
      "outputs": []
    }
  ]
}